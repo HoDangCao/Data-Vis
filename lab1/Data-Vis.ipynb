{
 "cells": [
  {
   "cell_type": "markdown",
   "metadata": {},
   "source": [
    "## Import the necessary libraries"
   ]
  },
  {
   "cell_type": "code",
   "execution_count": 35,
   "metadata": {},
   "outputs": [],
   "source": [
    "import pandas as pd\n",
    "import numpy as np\n",
    "\n",
    "import matplotlib.pyplot as plt \n",
    "\n",
    "from datetime import date\n",
    "import math\n",
    "import plotly.express as px\n",
    "import plotly.graph_objects as go\n",
    "import seaborn as sns\n"
   ]
  },
  {
   "attachments": {},
   "cell_type": "markdown",
   "metadata": {},
   "source": [
    "## Read data from CSV file"
   ]
  },
  {
   "cell_type": "code",
   "execution_count": 36,
   "metadata": {},
   "outputs": [
    {
     "data": {
      "text/html": [
       "<div>\n",
       "<style scoped>\n",
       "    .dataframe tbody tr th:only-of-type {\n",
       "        vertical-align: middle;\n",
       "    }\n",
       "\n",
       "    .dataframe tbody tr th {\n",
       "        vertical-align: top;\n",
       "    }\n",
       "\n",
       "    .dataframe thead th {\n",
       "        text-align: right;\n",
       "    }\n",
       "</style>\n",
       "<table border=\"1\" class=\"dataframe\">\n",
       "  <thead>\n",
       "    <tr style=\"text-align: right;\">\n",
       "      <th></th>\n",
       "      <th>Country, Other</th>\n",
       "      <th>Total Cases</th>\n",
       "      <th>Total Deaths</th>\n",
       "      <th>Total Recovered</th>\n",
       "      <th>Active Cases</th>\n",
       "      <th>Serious, Critical</th>\n",
       "      <th>1M pop</th>\n",
       "      <th>Deaths/ 1M pop</th>\n",
       "      <th>Total Tests</th>\n",
       "      <th>Tests/ 1M pop</th>\n",
       "      <th>Population</th>\n",
       "      <th>Continent</th>\n",
       "    </tr>\n",
       "  </thead>\n",
       "  <tbody>\n",
       "    <tr>\n",
       "      <th>0</th>\n",
       "      <td>USA</td>\n",
       "      <td>105665981</td>\n",
       "      <td>1149253.0</td>\n",
       "      <td>103319965.0</td>\n",
       "      <td>1196763.0</td>\n",
       "      <td>2157.0</td>\n",
       "      <td>315604.0</td>\n",
       "      <td>3433.0</td>\n",
       "      <td>1.169268e+09</td>\n",
       "      <td>3492381.0</td>\n",
       "      <td>3.348053e+08</td>\n",
       "      <td>North America</td>\n",
       "    </tr>\n",
       "    <tr>\n",
       "      <th>1</th>\n",
       "      <td>India</td>\n",
       "      <td>44691956</td>\n",
       "      <td>530789.0</td>\n",
       "      <td>44156970.0</td>\n",
       "      <td>4197.0</td>\n",
       "      <td>NaN</td>\n",
       "      <td>31772.0</td>\n",
       "      <td>377.0</td>\n",
       "      <td>9.198164e+08</td>\n",
       "      <td>653914.0</td>\n",
       "      <td>1.406632e+09</td>\n",
       "      <td>Asia</td>\n",
       "    </tr>\n",
       "    <tr>\n",
       "      <th>2</th>\n",
       "      <td>France</td>\n",
       "      <td>39667102</td>\n",
       "      <td>165240.0</td>\n",
       "      <td>39435308.0</td>\n",
       "      <td>66554.0</td>\n",
       "      <td>869.0</td>\n",
       "      <td>604824.0</td>\n",
       "      <td>2519.0</td>\n",
       "      <td>2.714902e+08</td>\n",
       "      <td>4139547.0</td>\n",
       "      <td>6.558452e+07</td>\n",
       "      <td>Europe</td>\n",
       "    </tr>\n",
       "    <tr>\n",
       "      <th>3</th>\n",
       "      <td>Germany</td>\n",
       "      <td>38276190</td>\n",
       "      <td>169345.0</td>\n",
       "      <td>37906300.0</td>\n",
       "      <td>200545.0</td>\n",
       "      <td>NaN</td>\n",
       "      <td>456301.0</td>\n",
       "      <td>2019.0</td>\n",
       "      <td>1.223324e+08</td>\n",
       "      <td>1458359.0</td>\n",
       "      <td>8.388360e+07</td>\n",
       "      <td>Europe</td>\n",
       "    </tr>\n",
       "    <tr>\n",
       "      <th>4</th>\n",
       "      <td>Brazil</td>\n",
       "      <td>37085520</td>\n",
       "      <td>699310.0</td>\n",
       "      <td>36249161.0</td>\n",
       "      <td>137049.0</td>\n",
       "      <td>NaN</td>\n",
       "      <td>172208.0</td>\n",
       "      <td>3247.0</td>\n",
       "      <td>6.377617e+07</td>\n",
       "      <td>296146.0</td>\n",
       "      <td>2.153536e+08</td>\n",
       "      <td>South America</td>\n",
       "    </tr>\n",
       "    <tr>\n",
       "      <th>...</th>\n",
       "      <td>...</td>\n",
       "      <td>...</td>\n",
       "      <td>...</td>\n",
       "      <td>...</td>\n",
       "      <td>...</td>\n",
       "      <td>...</td>\n",
       "      <td>...</td>\n",
       "      <td>...</td>\n",
       "      <td>...</td>\n",
       "      <td>...</td>\n",
       "      <td>...</td>\n",
       "      <td>...</td>\n",
       "    </tr>\n",
       "    <tr>\n",
       "      <th>226</th>\n",
       "      <td>Diamond Princess</td>\n",
       "      <td>712</td>\n",
       "      <td>13.0</td>\n",
       "      <td>699.0</td>\n",
       "      <td>0.0</td>\n",
       "      <td>NaN</td>\n",
       "      <td>NaN</td>\n",
       "      <td>NaN</td>\n",
       "      <td>NaN</td>\n",
       "      <td>NaN</td>\n",
       "      <td>NaN</td>\n",
       "      <td>NaN</td>\n",
       "    </tr>\n",
       "    <tr>\n",
       "      <th>227</th>\n",
       "      <td>Vatican City</td>\n",
       "      <td>29</td>\n",
       "      <td>NaN</td>\n",
       "      <td>29.0</td>\n",
       "      <td>0.0</td>\n",
       "      <td>NaN</td>\n",
       "      <td>36295.0</td>\n",
       "      <td>NaN</td>\n",
       "      <td>NaN</td>\n",
       "      <td>NaN</td>\n",
       "      <td>7.990000e+02</td>\n",
       "      <td>Europe</td>\n",
       "    </tr>\n",
       "    <tr>\n",
       "      <th>228</th>\n",
       "      <td>Western Sahara</td>\n",
       "      <td>10</td>\n",
       "      <td>1.0</td>\n",
       "      <td>9.0</td>\n",
       "      <td>0.0</td>\n",
       "      <td>NaN</td>\n",
       "      <td>16.0</td>\n",
       "      <td>2.0</td>\n",
       "      <td>NaN</td>\n",
       "      <td>NaN</td>\n",
       "      <td>6.261610e+05</td>\n",
       "      <td>Africa</td>\n",
       "    </tr>\n",
       "    <tr>\n",
       "      <th>229</th>\n",
       "      <td>MS Zaandam</td>\n",
       "      <td>9</td>\n",
       "      <td>2.0</td>\n",
       "      <td>7.0</td>\n",
       "      <td>0.0</td>\n",
       "      <td>NaN</td>\n",
       "      <td>NaN</td>\n",
       "      <td>NaN</td>\n",
       "      <td>NaN</td>\n",
       "      <td>NaN</td>\n",
       "      <td>NaN</td>\n",
       "      <td>NaN</td>\n",
       "    </tr>\n",
       "    <tr>\n",
       "      <th>230</th>\n",
       "      <td>Tokelau</td>\n",
       "      <td>5</td>\n",
       "      <td>NaN</td>\n",
       "      <td>NaN</td>\n",
       "      <td>5.0</td>\n",
       "      <td>NaN</td>\n",
       "      <td>3628.0</td>\n",
       "      <td>NaN</td>\n",
       "      <td>NaN</td>\n",
       "      <td>NaN</td>\n",
       "      <td>1.378000e+03</td>\n",
       "      <td>Australia/Oceania</td>\n",
       "    </tr>\n",
       "  </tbody>\n",
       "</table>\n",
       "<p>231 rows × 12 columns</p>\n",
       "</div>"
      ],
      "text/plain": [
       "       Country, Other  Total Cases  Total Deaths  Total Recovered  \\\n",
       "0                 USA    105665981     1149253.0      103319965.0   \n",
       "1               India     44691956      530789.0       44156970.0   \n",
       "2              France     39667102      165240.0       39435308.0   \n",
       "3             Germany     38276190      169345.0       37906300.0   \n",
       "4              Brazil     37085520      699310.0       36249161.0   \n",
       "..                ...          ...           ...              ...   \n",
       "226  Diamond Princess          712          13.0            699.0   \n",
       "227      Vatican City           29           NaN             29.0   \n",
       "228    Western Sahara           10           1.0              9.0   \n",
       "229        MS Zaandam            9           2.0              7.0   \n",
       "230           Tokelau            5           NaN              NaN   \n",
       "\n",
       "     Active Cases  Serious, Critical    1M pop  Deaths/ 1M pop   Total Tests  \\\n",
       "0       1196763.0             2157.0  315604.0          3433.0  1.169268e+09   \n",
       "1          4197.0                NaN   31772.0           377.0  9.198164e+08   \n",
       "2         66554.0              869.0  604824.0          2519.0  2.714902e+08   \n",
       "3        200545.0                NaN  456301.0          2019.0  1.223324e+08   \n",
       "4        137049.0                NaN  172208.0          3247.0  6.377617e+07   \n",
       "..            ...                ...       ...             ...           ...   \n",
       "226           0.0                NaN       NaN             NaN           NaN   \n",
       "227           0.0                NaN   36295.0             NaN           NaN   \n",
       "228           0.0                NaN      16.0             2.0           NaN   \n",
       "229           0.0                NaN       NaN             NaN           NaN   \n",
       "230           5.0                NaN    3628.0             NaN           NaN   \n",
       "\n",
       "     Tests/ 1M pop    Population          Continent  \n",
       "0        3492381.0  3.348053e+08      North America  \n",
       "1         653914.0  1.406632e+09               Asia  \n",
       "2        4139547.0  6.558452e+07             Europe  \n",
       "3        1458359.0  8.388360e+07             Europe  \n",
       "4         296146.0  2.153536e+08      South America  \n",
       "..             ...           ...                ...  \n",
       "226            NaN           NaN                NaN  \n",
       "227            NaN  7.990000e+02             Europe  \n",
       "228            NaN  6.261610e+05             Africa  \n",
       "229            NaN           NaN                NaN  \n",
       "230            NaN  1.378000e+03  Australia/Oceania  \n",
       "\n",
       "[231 rows x 12 columns]"
      ]
     },
     "execution_count": 36,
     "metadata": {},
     "output_type": "execute_result"
    }
   ],
   "source": [
    "df = pd.read_csv(\"2023-02-16.csv\")\n",
    "# df = pd.read_csv(f\"{date.today()}.csv\")\n",
    "df = df.drop(df.columns[0], axis=1)\n",
    "# df = df.astype({df.columns[i]:'Int64' for i in range(1,len(columns)-1)})\n",
    "df"
   ]
  },
  {
   "attachments": {},
   "cell_type": "markdown",
   "metadata": {},
   "source": [
    "---\n",
    "\n",
    "# Visualization\n",
    "## Correlation between 2 attributes"
   ]
  },
  {
   "cell_type": "code",
   "execution_count": 37,
   "metadata": {},
   "outputs": [],
   "source": [
    "def correlation_2_attr(attr1, attr2):\n",
    "    x_values = df[f'{attr1}'].apply(lambda x: math.log10(x))\n",
    "    y_values = df[f'{attr2}'].apply(lambda x: math.log10(x))\n",
    "    plt.scatter(x_values, y_values)\n",
    "    plt.title(f'{attr1} and {attr2} Correlation (log scale)')\n",
    "    plt.xlabel(attr1)\n",
    "    plt.ylabel(attr2)\n",
    "    plt.plot([0, max(x_values)], [0, max(x_values)], label=f'Where {attr1} equals to {attr2}')\n",
    "    plt.legend()\n",
    "    plt.show()"
   ]
  },
  {
   "cell_type": "code",
   "execution_count": 38,
   "metadata": {},
   "outputs": [
    {
     "data": {
      "image/png": "[encoded data removed]",
      "text/plain": [
       "<Figure size 640x480 with 1 Axes>"
      ]
     },
     "metadata": {},
     "output_type": "display_data"
    }
   ],
   "source": [
    "correlation_2_attr('Total Deaths','Total Recovered')"
   ]
  },
  {
   "cell_type": "markdown",
   "metadata": {},
   "source": [
    "`Comment:` \n",
    "- All countries have more recovered cases than death cases.\n",
    "- Recovered cases and death cases have positive linear correlation."
   ]
  },
  {
   "cell_type": "code",
   "execution_count": 39,
   "metadata": {},
   "outputs": [
    {
     "data": {
      "image/png": "[encoded data removed]",
      "text/plain": [
       "<Figure size 640x480 with 1 Axes>"
      ]
     },
     "metadata": {},
     "output_type": "display_data"
    }
   ],
   "source": [
    "correlation_2_attr('Total Deaths','Total Cases')"
   ]
  },
  {
   "cell_type": "markdown",
   "metadata": {},
   "source": [
    "`Comment:` no difference with correlation between Recovered cases and Death cases"
   ]
  },
  {
   "attachments": {},
   "cell_type": "markdown",
   "metadata": {},
   "source": [
    "### Overview of the epidemic situation in the world and continent"
   ]
  },
  {
   "cell_type": "code",
   "execution_count": 40,
   "metadata": {},
   "outputs": [
    {
     "data": {
      "application/vnd.plotly.v1+json": {
       "config": {
        "plotlyServerURL": "https://plot.ly"
       },
       "data": [
        {
         "autocolorscale": false,
         "colorbar": {
          "title": {
           "text": "Total Covid Cases"
          }
         },
         "colorscale": [
          [
           0,
           "#440154"
          ],
          [
           0.1111111111111111,
           "#482878"
          ],
          [
           0.2222222222222222,
           "#3e4989"
          ],
          [
           0.3333333333333333,
           "#31688e"
          ],
          [
           0.4444444444444444,
           "#26828e"
          ],
          [
           0.5555555555555556,
           "#1f9e89"
          ],
          [
           0.6666666666666666,
           "#35b779"
          ],
          [
           0.7777777777777778,
           "#6ece58"
          ],
          [
           0.8888888888888888,
           "#b5de2b"
          ],
          [
           1,
           "#fde725"
          ]
         ],
         "locationmode": "country names",
         "locations": [
          "USA",
          "India",
          "France",
          "Germany",
          "Brazil",
          "Japan",
          "S. Korea",
          "Italy",
          "UK",
          "Russia",
          "Turkey",
          "Spain",
          "Vietnam",
          "Australia",
          "Taiwan",
          "Argentina",
          "Netherlands",
          "Iran",
          "Mexico",
          "Indonesia",
          "Poland",
          "Colombia",
          "Austria",
          "Greece",
          "Portugal",
          "Ukraine",
          "Chile",
          "Malaysia",
          "Israel",
          "DPRK",
          "Belgium",
          "Thailand",
          "Czechia",
          "Canada",
          "Peru",
          "Switzerland",
          "Philippines",
          "South Africa",
          "Romania",
          "Denmark",
          "Hong Kong",
          "Sweden",
          "Serbia",
          "Iraq",
          "New Zealand",
          "Singapore",
          "Hungary",
          "Bangladesh",
          "Slovakia",
          "Georgia",
          "Jordan",
          "Ireland",
          "Pakistan",
          "Norway",
          "Finland",
          "Kazakhstan",
          "Slovenia",
          "Lithuania",
          "Bulgaria",
          "Morocco",
          "Croatia",
          "Guatemala",
          "Lebanon",
          "Costa Rica",
          "Bolivia",
          "Tunisia",
          "Cuba",
          "Ecuador",
          "UAE",
          "Uruguay",
          "Panama",
          "Mongolia",
          "Nepal",
          "Belarus",
          "Latvia",
          "Saudi Arabia",
          "Azerbaijan",
          "Paraguay",
          "Bahrain",
          "Sri Lanka",
          "Kuwait",
          "Dominican Republic",
          "Cyprus",
          "Myanmar",
          "Palestine",
          "Estonia",
          "Moldova",
          "Venezuela",
          "Egypt",
          "Libya",
          "China",
          "Ethiopia",
          "Qatar",
          "Réunion",
          "Honduras",
          "Armenia",
          "Bosnia and Herzegovina",
          "Oman",
          "North Macedonia",
          "Zambia",
          "Kenya",
          "Albania",
          "Botswana",
          "Luxembourg",
          "Montenegro",
          "Brunei ",
          "Algeria",
          "Nigeria",
          "Zimbabwe",
          "Uzbekistan",
          "Mozambique",
          "Martinique",
          "Laos",
          "Afghanistan",
          "Iceland",
          "Kyrgyzstan",
          "Guadeloupe",
          "El Salvador",
          "Trinidad and Tobago",
          "Maldives",
          "Ghana",
          "Namibia",
          "Uganda",
          "Jamaica",
          "Cambodia",
          "Rwanda",
          "Cameroon",
          "Malta",
          "Barbados",
          "Angola",
          "Channel Islands",
          "French Guiana",
          "DRC",
          "Senegal",
          "Malawi",
          "Ivory Coast",
          "Suriname",
          "New Caledonia",
          "French Polynesia",
          "Eswatini",
          "Guyana",
          "Belize",
          "Fiji",
          "Madagascar",
          "Sudan",
          "Mauritania",
          "Cabo Verde",
          "Bhutan",
          "Syria",
          "Burundi",
          "Seychelles",
          "Gabon",
          "Andorra",
          "Papua New Guinea",
          "Curaçao",
          "Aruba",
          "Tanzania",
          "Mayotte",
          "Mauritius",
          "Togo",
          "Guinea",
          "Isle of Man",
          "Bahamas",
          "Lesotho",
          "Faeroe Islands",
          "Haiti",
          "Mali",
          "Cayman Islands",
          "Saint Lucia",
          "Benin",
          "Somalia",
          "Congo",
          "Solomon Islands",
          "Micronesia",
          "San Marino",
          "Timor-Leste",
          "Burkina Faso",
          "Liechtenstein",
          "Gibraltar",
          "Grenada",
          "Bermuda",
          "Nicaragua",
          "South Sudan",
          "Tajikistan",
          "Equatorial Guinea",
          "Tonga",
          "Samoa",
          "Monaco",
          "Dominica",
          "Djibouti",
          "Marshall Islands",
          "CAR",
          "Gambia",
          "Saint Martin",
          "Vanuatu",
          "Greenland",
          "Yemen",
          "Caribbean Netherlands",
          "Sint Maarten",
          "Eritrea",
          "Niger",
          "St. Vincent Grenadines",
          "Antigua and Barbuda",
          "Comoros",
          "Guinea-Bissau",
          "Liberia",
          "Sierra Leone",
          "Chad",
          "British Virgin Islands",
          "Cook Islands",
          "Saint Kitts and Nevis",
          "Turks and Caicos",
          "Sao Tome and Principe",
          "Palau",
          "St. Barth",
          "Nauru",
          "Kiribati",
          "Anguilla",
          "Macao",
          "Saint Pierre Miquelon",
          "Wallis and Futuna",
          "Tuvalu",
          "Saint Helena",
          "Falkland Islands",
          "Montserrat",
          "Niue",
          "Diamond Princess",
          "Vatican City",
          "Western Sahara",
          "MS Zaandam",
          "Tokelau"
         ],
         "reversescale": true,
         "text": [
          "USA",
          "India",
          "France",
          "Germany",
          "Brazil",
          "Japan",
          "S. Korea",
          "Italy",
          "UK",
          "Russia",
          "Turkey",
          "Spain",
          "Vietnam",
          "Australia",
          "Taiwan",
          "Argentina",
          "Netherlands",
          "Iran",
          "Mexico",
          "Indonesia",
          "Poland",
          "Colombia",
          "Austria",
          "Greece",
          "Portugal",
          "Ukraine",
          "Chile",
          "Malaysia",
          "Israel",
          "DPRK",
          "Belgium",
          "Thailand",
          "Czechia",
          "Canada",
          "Peru",
          "Switzerland",
          "Philippines",
          "South Africa",
          "Romania",
          "Denmark",
          "Hong Kong",
          "Sweden",
          "Serbia",
          "Iraq",
          "New Zealand",
          "Singapore",
          "Hungary",
          "Bangladesh",
          "Slovakia",
          "Georgia",
          "Jordan",
          "Ireland",
          "Pakistan",
          "Norway",
          "Finland",
          "Kazakhstan",
          "Slovenia",
          "Lithuania",
          "Bulgaria",
          "Morocco",
          "Croatia",
          "Guatemala",
          "Lebanon",
          "Costa Rica",
          "Bolivia",
          "Tunisia",
          "Cuba",
          "Ecuador",
          "UAE",
          "Uruguay",
          "Panama",
          "Mongolia",
          "Nepal",
          "Belarus",
          "Latvia",
          "Saudi Arabia",
          "Azerbaijan",
          "Paraguay",
          "Bahrain",
          "Sri Lanka",
          "Kuwait",
          "Dominican Republic",
          "Cyprus",
          "Myanmar",
          "Palestine",
          "Estonia",
          "Moldova",
          "Venezuela",
          "Egypt",
          "Libya",
          "China",
          "Ethiopia",
          "Qatar",
          "Réunion",
          "Honduras",
          "Armenia",
          "Bosnia and Herzegovina",
          "Oman",
          "North Macedonia",
          "Zambia",
          "Kenya",
          "Albania",
          "Botswana",
          "Luxembourg",
          "Montenegro",
          "Brunei ",
          "Algeria",
          "Nigeria",
          "Zimbabwe",
          "Uzbekistan",
          "Mozambique",
          "Martinique",
          "Laos",
          "Afghanistan",
          "Iceland",
          "Kyrgyzstan",
          "Guadeloupe",
          "El Salvador",
          "Trinidad and Tobago",
          "Maldives",
          "Ghana",
          "Namibia",
          "Uganda",
          "Jamaica",
          "Cambodia",
          "Rwanda",
          "Cameroon",
          "Malta",
          "Barbados",
          "Angola",
          "Channel Islands",
          "French Guiana",
          "DRC",
          "Senegal",
          "Malawi",
          "Ivory Coast",
          "Suriname",
          "New Caledonia",
          "French Polynesia",
          "Eswatini",
          "Guyana",
          "Belize",
          "Fiji",
          "Madagascar",
          "Sudan",
          "Mauritania",
          "Cabo Verde",
          "Bhutan",
          "Syria",
          "Burundi",
          "Seychelles",
          "Gabon",
          "Andorra",
          "Papua New Guinea",
          "Curaçao",
          "Aruba",
          "Tanzania",
          "Mayotte",
          "Mauritius",
          "Togo",
          "Guinea",
          "Isle of Man",
          "Bahamas",
          "Lesotho",
          "Faeroe Islands",
          "Haiti",
          "Mali",
          "Cayman Islands",
          "Saint Lucia",
          "Benin",
          "Somalia",
          "Congo",
          "Solomon Islands",
          "Micronesia",
          "San Marino",
          "Timor-Leste",
          "Burkina Faso",
          "Liechtenstein",
          "Gibraltar",
          "Grenada",
          "Bermuda",
          "Nicaragua",
          "South Sudan",
          "Tajikistan",
          "Equatorial Guinea",
          "Tonga",
          "Samoa",
          "Monaco",
          "Dominica",
          "Djibouti",
          "Marshall Islands",
          "CAR",
          "Gambia",
          "Saint Martin",
          "Vanuatu",
          "Greenland",
          "Yemen",
          "Caribbean Netherlands",
          "Sint Maarten",
          "Eritrea",
          "Niger",
          "St. Vincent Grenadines",
          "Antigua and Barbuda",
          "Comoros",
          "Guinea-Bissau",
          "Liberia",
          "Sierra Leone",
          "Chad",
          "British Virgin Islands",
          "Cook Islands",
          "Saint Kitts and Nevis",
          "Turks and Caicos",
          "Sao Tome and Principe",
          "Palau",
          "St. Barth",
          "Nauru",
          "Kiribati",
          "Anguilla",
          "Macao",
          "Saint Pierre Miquelon",
          "Wallis and Futuna",
          "Tuvalu",
          "Saint Helena",
          "Falkland Islands",
          "Montserrat",
          "Niue",
          "Diamond Princess",
          "Vatican City",
          "Western Sahara",
          "MS Zaandam",
          "Tokelau"
         ],
         "type": "choropleth",
         "z": [
          105665981,
          44691956,
          39667102,
          38276190,
          37085520,
          33346529,
          30662229,
          25627473,
          24396534,
          22454933,
          17042722,
          13778467,
          11527079,
          11385534,
          10197421,
          10044957,
          8604733,
          7573328,
          7492112,
          6740031,
          6462369,
          6360780,
          5981084,
          5896788,
          5570473,
          5399231,
          5209152,
          5045192,
          4806396,
          4772813,
          4739365,
          4728304,
          4623277,
          4609277,
          4488338,
          4392464,
          4078231,
          4068319,
          3352356,
          3176268,
          2884099,
          2699339,
          2504113,
          2465545,
          2239800,
          2234996,
          2196804,
          2037871,
          1864353,
          1827537,
          1746997,
          1704502,
          1577785,
          1479746,
          1463644,
          1408124,
          1334089,
          1309661,
          1298013,
          1272526,
          1269687,
          1239341,
          1233151,
          1209725,
          1194687,
          1151333,
          1112667,
          1057121,
          1054008,
          1034303,
          1032237,
          1007900,
          1001172,
          994037,
          976402,
          830870,
          829011,
          808507,
          712094,
          672047,
          663860,
          660790,
          652386,
          633965,
          621008,
          615735,
          613974,
          552225,
          515759,
          507201,
          503302,
          500188,
          495856,
          486588,
          472340,
          447308,
          401729,
          399449,
          346852,
          343271,
          342938,
          334523,
          329769,
          297757,
          289069,
          279661,
          271535,
          266628,
          264276,
          251247,
          233214,
          229807,
          218024,
          209602,
          209168,
          206708,
          201886,
          201785,
          190285,
          185744,
          171288,
          171156,
          170558,
          154416,
          138720,
          133194,
          124605,
          117749,
          106798,
          105288,
          101530,
          98041,
          95815,
          88926,
          88707,
          88286,
          82467,
          79881,
          78055,
          74323,
          73093,
          70782,
          68898,
          67941,
          63829,
          63668,
          63249,
          62627,
          57478,
          53631,
          50937,
          48981,
          47890,
          46825,
          45986,
          44044,
          42906,
          42004,
          41769,
          39408,
          38267,
          38008,
          37491,
          34790,
          34658,
          34202,
          33068,
          31472,
          30004,
          27999,
          27324,
          25375,
          24575,
          23948,
          23663,
          23419,
          22056,
          21434,
          20462,
          19680,
          18828,
          18491,
          18368,
          17786,
          17229,
          16810,
          16607,
          16119,
          15760,
          15690,
          15649,
          15368,
          12598,
          12271,
          12014,
          11971,
          11945,
          11679,
          11020,
          10189,
          9931,
          9589,
          9106,
          9008,
          8960,
          8090,
          7760,
          7682,
          7305,
          7033,
          6597,
          6561,
          6281,
          5994,
          5441,
          5393,
          5014,
          3904,
          3514,
          3452,
          3427,
          2805,
          2166,
          1930,
          1403,
          793,
          712,
          29,
          10,
          9,
          5
         ]
        }
       ],
       "layout": {
        "geo": {
         "projection": {
          "type": "orthographic"
         },
         "showcoastlines": false,
         "showframe": false
        },
        "template": {
         "data": {
          "bar": [
           {
            "error_x": {
             "color": "#2a3f5f"
            },
            "error_y": {
             "color": "#2a3f5f"
            },
            "marker": {
             "line": {
              "color": "#E5ECF6",
              "width": 0.5
             },
             "pattern": {
              "fillmode": "overlay",
              "size": 10,
              "solidity": 0.2
             }
            },
            "type": "bar"
           }
          ],
          "barpolar": [
           {
            "marker": {
             "line": {
              "color": "#E5ECF6",
              "width": 0.5
             },
             "pattern": {
              "fillmode": "overlay",
              "size": 10,
              "solidity": 0.2
             }
            },
            "type": "barpolar"
           }
          ],
          "carpet": [
           {
            "aaxis": {
             "endlinecolor": "#2a3f5f",
             "gridcolor": "white",
             "linecolor": "white",
             "minorgridcolor": "white",
             "startlinecolor": "#2a3f5f"
            },
            "baxis": {
             "endlinecolor": "#2a3f5f",
             "gridcolor": "white",
             "linecolor": "white",
             "minorgridcolor": "white",
             "startlinecolor": "#2a3f5f"
            },
            "type": "carpet"
           }
          ],
          "choropleth": [
           {
            "colorbar": {
             "outlinewidth": 0,
             "ticks": ""
            },
            "type": "choropleth"
           }
          ],
          "contour": [
           {
            "colorbar": {
             "outlinewidth": 0,
             "ticks": ""
            },
            "colorscale": [
             [
              0,
              "#0d0887"
             ],
             [
              0.1111111111111111,
              "#46039f"
             ],
             [
              0.2222222222222222,
              "#7201a8"
             ],
             [
              0.3333333333333333,
              "#9c179e"
             ],
             [
              0.4444444444444444,
              "#bd3786"
             ],
             [
              0.5555555555555556,
              "#d8576b"
             ],
             [
              0.6666666666666666,
              "#ed7953"
             ],
             [
              0.7777777777777778,
              "#fb9f3a"
             ],
             [
              0.8888888888888888,
              "#fdca26"
             ],
             [
              1,
              "#f0f921"
             ]
            ],
            "type": "contour"
           }
          ],
          "contourcarpet": [
           {
            "colorbar": {
             "outlinewidth": 0,
             "ticks": ""
            },
            "type": "contourcarpet"
           }
          ],
          "heatmap": [
           {
            "colorbar": {
             "outlinewidth": 0,
             "ticks": ""
            },
            "colorscale": [
             [
              0,
              "#0d0887"
             ],
             [
              0.1111111111111111,
              "#46039f"
             ],
             [
              0.2222222222222222,
              "#7201a8"
             ],
             [
              0.3333333333333333,
              "#9c179e"
             ],
             [
              0.4444444444444444,
              "#bd3786"
             ],
             [
              0.5555555555555556,
              "#d8576b"
             ],
             [
              0.6666666666666666,
              "#ed7953"
             ],
             [
              0.7777777777777778,
              "#fb9f3a"
             ],
             [
              0.8888888888888888,
              "#fdca26"
             ],
             [
              1,
              "#f0f921"
             ]
            ],
            "type": "heatmap"
           }
          ],
          "heatmapgl": [
           {
            "colorbar": {
             "outlinewidth": 0,
             "ticks": ""
            },
            "colorscale": [
             [
              0,
              "#0d0887"
             ],
             [
              0.1111111111111111,
              "#46039f"
             ],
             [
              0.2222222222222222,
              "#7201a8"
             ],
             [
              0.3333333333333333,
              "#9c179e"
             ],
             [
              0.4444444444444444,
              "#bd3786"
             ],
             [
              0.5555555555555556,
              "#d8576b"
             ],
             [
              0.6666666666666666,
              "#ed7953"
             ],
             [
              0.7777777777777778,
              "#fb9f3a"
             ],
             [
              0.8888888888888888,
              "#fdca26"
             ],
             [
              1,
              "#f0f921"
             ]
            ],
            "type": "heatmapgl"
           }
          ],
          "histogram": [
           {
            "marker": {
             "pattern": {
              "fillmode": "overlay",
              "size": 10,
              "solidity": 0.2
             }
            },
            "type": "histogram"
           }
          ],
          "histogram2d": [
           {
            "colorbar": {
             "outlinewidth": 0,
             "ticks": ""
            },
            "colorscale": [
             [
              0,
              "#0d0887"
             ],
             [
              0.1111111111111111,
              "#46039f"
             ],
             [
              0.2222222222222222,
              "#7201a8"
             ],
             [
              0.3333333333333333,
              "#9c179e"
             ],
             [
              0.4444444444444444,
              "#bd3786"
             ],
             [
              0.5555555555555556,
              "#d8576b"
             ],
             [
              0.6666666666666666,
              "#ed7953"
             ],
             [
              0.7777777777777778,
              "#fb9f3a"
             ],
             [
              0.8888888888888888,
              "#fdca26"
             ],
             [
              1,
              "#f0f921"
             ]
            ],
            "type": "histogram2d"
           }
          ],
          "histogram2dcontour": [
           {
            "colorbar": {
             "outlinewidth": 0,
             "ticks": ""
            },
            "colorscale": [
             [
              0,
              "#0d0887"
             ],
             [
              0.1111111111111111,
              "#46039f"
             ],
             [
              0.2222222222222222,
              "#7201a8"
             ],
             [
              0.3333333333333333,
              "#9c179e"
             ],
             [
              0.4444444444444444,
              "#bd3786"
             ],
             [
              0.5555555555555556,
              "#d8576b"
             ],
             [
              0.6666666666666666,
              "#ed7953"
             ],
             [
              0.7777777777777778,
              "#fb9f3a"
             ],
             [
              0.8888888888888888,
              "#fdca26"
             ],
             [
              1,
              "#f0f921"
             ]
            ],
            "type": "histogram2dcontour"
           }
          ],
          "mesh3d": [
           {
            "colorbar": {
             "outlinewidth": 0,
             "ticks": ""
            },
            "type": "mesh3d"
           }
          ],
          "parcoords": [
           {
            "line": {
             "colorbar": {
              "outlinewidth": 0,
              "ticks": ""
             }
            },
            "type": "parcoords"
           }
          ],
          "pie": [
           {
            "automargin": true,
            "type": "pie"
           }
          ],
          "scatter": [
           {
            "fillpattern": {
             "fillmode": "overlay",
             "size": 10,
             "solidity": 0.2
            },
            "type": "scatter"
           }
          ],
          "scatter3d": [
           {
            "line": {
             "colorbar": {
              "outlinewidth": 0,
              "ticks": ""
             }
            },
            "marker": {
             "colorbar": {
              "outlinewidth": 0,
              "ticks": ""
             }
            },
            "type": "scatter3d"
           }
          ],
          "scattercarpet": [
           {
            "marker": {
             "colorbar": {
              "outlinewidth": 0,
              "ticks": ""
             }
            },
            "type": "scattercarpet"
           }
          ],
          "scattergeo": [
           {
            "marker": {
             "colorbar": {
              "outlinewidth": 0,
              "ticks": ""
             }
            },
            "type": "scattergeo"
           }
          ],
          "scattergl": [
           {
            "marker": {
             "colorbar": {
              "outlinewidth": 0,
              "ticks": ""
             }
            },
            "type": "scattergl"
           }
          ],
          "scattermapbox": [
           {
            "marker": {
             "colorbar": {
              "outlinewidth": 0,
              "ticks": ""
             }
            },
            "type": "scattermapbox"
           }
          ],
          "scatterpolar": [
           {
            "marker": {
             "colorbar": {
              "outlinewidth": 0,
              "ticks": ""
             }
            },
            "type": "scatterpolar"
           }
          ],
          "scatterpolargl": [
           {
            "marker": {
             "colorbar": {
              "outlinewidth": 0,
              "ticks": ""
             }
            },
            "type": "scatterpolargl"
           }
          ],
          "scatterternary": [
           {
            "marker": {
             "colorbar": {
              "outlinewidth": 0,
              "ticks": ""
             }
            },
            "type": "scatterternary"
           }
          ],
          "surface": [
           {
            "colorbar": {
             "outlinewidth": 0,
             "ticks": ""
            },
            "colorscale": [
             [
              0,
              "#0d0887"
             ],
             [
              0.1111111111111111,
              "#46039f"
             ],
             [
              0.2222222222222222,
              "#7201a8"
             ],
             [
              0.3333333333333333,
              "#9c179e"
             ],
             [
              0.4444444444444444,
              "#bd3786"
             ],
             [
              0.5555555555555556,
              "#d8576b"
             ],
             [
              0.6666666666666666,
              "#ed7953"
             ],
             [
              0.7777777777777778,
              "#fb9f3a"
             ],
             [
              0.8888888888888888,
              "#fdca26"
             ],
             [
              1,
              "#f0f921"
             ]
            ],
            "type": "surface"
           }
          ],
          "table": [
           {
            "cells": {
             "fill": {
              "color": "#EBF0F8"
             },
             "line": {
              "color": "white"
             }
            },
            "header": {
             "fill": {
              "color": "#C8D4E3"
             },
             "line": {
              "color": "white"
             }
            },
            "type": "table"
           }
          ]
         },
         "layout": {
          "annotationdefaults": {
           "arrowcolor": "#2a3f5f",
           "arrowhead": 0,
           "arrowwidth": 1
          },
          "autotypenumbers": "strict",
          "coloraxis": {
           "colorbar": {
            "outlinewidth": 0,
            "ticks": ""
           }
          },
          "colorscale": {
           "diverging": [
            [
             0,
             "#8e0152"
            ],
            [
             0.1,
             "#c51b7d"
            ],
            [
             0.2,
             "#de77ae"
            ],
            [
             0.3,
             "#f1b6da"
            ],
            [
             0.4,
             "#fde0ef"
            ],
            [
             0.5,
             "#f7f7f7"
            ],
            [
             0.6,
             "#e6f5d0"
            ],
            [
             0.7,
             "#b8e186"
            ],
            [
             0.8,
             "#7fbc41"
            ],
            [
             0.9,
             "#4d9221"
            ],
            [
             1,
             "#276419"
            ]
           ],
           "sequential": [
            [
             0,
             "#0d0887"
            ],
            [
             0.1111111111111111,
             "#46039f"
            ],
            [
             0.2222222222222222,
             "#7201a8"
            ],
            [
             0.3333333333333333,
             "#9c179e"
            ],
            [
             0.4444444444444444,
             "#bd3786"
            ],
            [
             0.5555555555555556,
             "#d8576b"
            ],
            [
             0.6666666666666666,
             "#ed7953"
            ],
            [
             0.7777777777777778,
             "#fb9f3a"
            ],
            [
             0.8888888888888888,
             "#fdca26"
            ],
            [
             1,
             "#f0f921"
            ]
           ],
           "sequentialminus": [
            [
             0,
             "#0d0887"
            ],
            [
             0.1111111111111111,
             "#46039f"
            ],
            [
             0.2222222222222222,
             "#7201a8"
            ],
            [
             0.3333333333333333,
             "#9c179e"
            ],
            [
             0.4444444444444444,
             "#bd3786"
            ],
            [
             0.5555555555555556,
             "#d8576b"
            ],
            [
             0.6666666666666666,
             "#ed7953"
            ],
            [
             0.7777777777777778,
             "#fb9f3a"
            ],
            [
             0.8888888888888888,
             "#fdca26"
            ],
            [
             1,
             "#f0f921"
            ]
           ]
          },
          "colorway": [
           "#636efa",
           "#EF553B",
           "#00cc96",
           "#ab63fa",
           "#FFA15A",
           "#19d3f3",
           "#FF6692",
           "#B6E880",
           "#FF97FF",
           "#FECB52"
          ],
          "font": {
           "color": "#2a3f5f"
          },
          "geo": {
           "bgcolor": "white",
           "lakecolor": "white",
           "landcolor": "#E5ECF6",
           "showlakes": true,
           "showland": true,
           "subunitcolor": "white"
          },
          "hoverlabel": {
           "align": "left"
          },
          "hovermode": "closest",
          "mapbox": {
           "style": "light"
          },
          "paper_bgcolor": "white",
          "plot_bgcolor": "#E5ECF6",
          "polar": {
           "angularaxis": {
            "gridcolor": "white",
            "linecolor": "white",
            "ticks": ""
           },
           "bgcolor": "#E5ECF6",
           "radialaxis": {
            "gridcolor": "white",
            "linecolor": "white",
            "ticks": ""
           }
          },
          "scene": {
           "xaxis": {
            "backgroundcolor": "#E5ECF6",
            "gridcolor": "white",
            "gridwidth": 2,
            "linecolor": "white",
            "showbackground": true,
            "ticks": "",
            "zerolinecolor": "white"
           },
           "yaxis": {
            "backgroundcolor": "#E5ECF6",
            "gridcolor": "white",
            "gridwidth": 2,
            "linecolor": "white",
            "showbackground": true,
            "ticks": "",
            "zerolinecolor": "white"
           },
           "zaxis": {
            "backgroundcolor": "#E5ECF6",
            "gridcolor": "white",
            "gridwidth": 2,
            "linecolor": "white",
            "showbackground": true,
            "ticks": "",
            "zerolinecolor": "white"
           }
          },
          "shapedefaults": {
           "line": {
            "color": "#2a3f5f"
           }
          },
          "ternary": {
           "aaxis": {
            "gridcolor": "white",
            "linecolor": "white",
            "ticks": ""
           },
           "baxis": {
            "gridcolor": "white",
            "linecolor": "white",
            "ticks": ""
           },
           "bgcolor": "#E5ECF6",
           "caxis": {
            "gridcolor": "white",
            "linecolor": "white",
            "ticks": ""
           }
          },
          "title": {
           "x": 0.05
          },
          "xaxis": {
           "automargin": true,
           "gridcolor": "white",
           "linecolor": "white",
           "ticks": "",
           "title": {
            "standoff": 15
           },
           "zerolinecolor": "white",
           "zerolinewidth": 2
          },
          "yaxis": {
           "automargin": true,
           "gridcolor": "white",
           "linecolor": "white",
           "ticks": "",
           "title": {
            "standoff": 15
           },
           "zerolinecolor": "white",
           "zerolinewidth": 2
          }
         }
        },
        "title": {
         "text": "Covid-19"
        }
       }
      }
     },
     "metadata": {},
     "output_type": "display_data"
    }
   ],
   "source": [
    "fig = go.Figure(data = go.Choropleth(locations = df['Country, Other'],locationmode = 'country names',z = df['Total Cases'],text = df['Country, Other'],\n",
    "    colorscale = 'viridis',\n",
    "    autocolorscale = False,\n",
    "    reversescale = True,\n",
    "    colorbar_title = 'Total Covid Cases',\n",
    "))\n",
    "fig.update_layout(title_text = 'Covid-19',geo = dict(showframe = False,showcoastlines = False,projection_type = 'orthographic'))\n",
    "fig.show()"
   ]
  },
  {
   "attachments": {},
   "cell_type": "markdown",
   "metadata": {},
   "source": [
    "`Comment`:"
   ]
  },
  {
   "cell_type": "code",
   "execution_count": 41,
   "metadata": {},
   "outputs": [
    {
     "data": {
      "text/html": [
       "<div>\n",
       "<style scoped>\n",
       "    .dataframe tbody tr th:only-of-type {\n",
       "        vertical-align: middle;\n",
       "    }\n",
       "\n",
       "    .dataframe tbody tr th {\n",
       "        vertical-align: top;\n",
       "    }\n",
       "\n",
       "    .dataframe thead th {\n",
       "        text-align: right;\n",
       "    }\n",
       "</style>\n",
       "<table border=\"1\" class=\"dataframe\">\n",
       "  <thead>\n",
       "    <tr style=\"text-align: right;\">\n",
       "      <th></th>\n",
       "      <th>Total Cases</th>\n",
       "      <th>Total Deaths</th>\n",
       "      <th>Total Recovered</th>\n",
       "      <th>Active Cases</th>\n",
       "    </tr>\n",
       "    <tr>\n",
       "      <th>Continent</th>\n",
       "      <th></th>\n",
       "      <th></th>\n",
       "      <th></th>\n",
       "      <th></th>\n",
       "    </tr>\n",
       "  </thead>\n",
       "  <tbody>\n",
       "    <tr>\n",
       "      <th>Africa</th>\n",
       "      <td>12802223</td>\n",
       "      <td>258615.0</td>\n",
       "      <td>10960262.0</td>\n",
       "      <td>369848.0</td>\n",
       "    </tr>\n",
       "    <tr>\n",
       "      <th>Asia</th>\n",
       "      <td>214819047</td>\n",
       "      <td>1538868.0</td>\n",
       "      <td>182634450.0</td>\n",
       "      <td>13487233.0</td>\n",
       "    </tr>\n",
       "    <tr>\n",
       "      <th>Australia/Oceania</th>\n",
       "      <td>14039060</td>\n",
       "      <td>26243.0</td>\n",
       "      <td>13815896.0</td>\n",
       "      <td>71206.0</td>\n",
       "    </tr>\n",
       "    <tr>\n",
       "      <th>Europe</th>\n",
       "      <td>247023846</td>\n",
       "      <td>2023023.0</td>\n",
       "      <td>242554318.0</td>\n",
       "      <td>2165044.0</td>\n",
       "    </tr>\n",
       "    <tr>\n",
       "      <th>North America</th>\n",
       "      <td>125046486</td>\n",
       "      <td>1615689.0</td>\n",
       "      <td>120382331.0</td>\n",
       "      <td>2144976.0</td>\n",
       "    </tr>\n",
       "    <tr>\n",
       "      <th>South America</th>\n",
       "      <td>68091121</td>\n",
       "      <td>1351202.0</td>\n",
       "      <td>65588188.0</td>\n",
       "      <td>282041.0</td>\n",
       "    </tr>\n",
       "  </tbody>\n",
       "</table>\n",
       "</div>"
      ],
      "text/plain": [
       "                   Total Cases  Total Deaths  Total Recovered  Active Cases\n",
       "Continent                                                                  \n",
       "Africa                12802223      258615.0       10960262.0      369848.0\n",
       "Asia                 214819047     1538868.0      182634450.0    13487233.0\n",
       "Australia/Oceania     14039060       26243.0       13815896.0       71206.0\n",
       "Europe               247023846     2023023.0      242554318.0     2165044.0\n",
       "North America        125046486     1615689.0      120382331.0     2144976.0\n",
       "South America         68091121     1351202.0       65588188.0      282041.0"
      ]
     },
     "execution_count": 41,
     "metadata": {},
     "output_type": "execute_result"
    }
   ],
   "source": [
    "Continent = df[['Total Cases','Total Deaths','Total Recovered','Active Cases','Continent']]\n",
    "Continent = Continent.groupby('Continent').sum()#.astype(int)\n",
    "Continent"
   ]
  },
  {
   "cell_type": "code",
   "execution_count": 42,
   "metadata": {},
   "outputs": [
    {
     "data": {
      "image/png": "[encoded data removed]",
      "text/plain": [
       "<Figure size 640x480 with 1 Axes>"
      ]
     },
     "metadata": {},
     "output_type": "display_data"
    }
   ],
   "source": [
    "def donut_attri_product(attr):\n",
    "\tdata = Continent.sort_values(by=attr, ascending=0)\n",
    "\tcolors = ['#F92969','#FACA0C','#17C37B','#D9DFEB','#ADFF2F','#FFA500']\n",
    "\texplode = [0.05]*6\n",
    "\n",
    "\tplt.pie(data[f'{attr}'], colors=colors, labels=data.index,\n",
    "\t\t\tautopct='%1.1f%%', pctdistance=0.85, explode=explode)\n",
    "\n",
    "\t# draw circle\n",
    "\tcentre_circle = plt.Circle((0, 0), 0.70, fc='white')\n",
    "\tfig = plt.gcf()\n",
    "\n",
    "\t# Adding Circle in Pie chart\n",
    "\tfig.gca().add_artist(centre_circle)\n",
    "\n",
    "\tplt.title(f'Percentage of COVID Cases by Continents')\n",
    "\tplt.show()\n",
    "\n",
    "donut_attri_product('Total Cases')"
   ]
  },
  {
   "cell_type": "markdown",
   "metadata": {},
   "source": [
    "`Comment:`\n",
    "- Europe have highest the total cases.\n",
    "- Meanwhile, Africa has weak medical, but the number of total cases of Africa is the smalest one."
   ]
  },
  {
   "cell_type": "markdown",
   "metadata": {},
   "source": [
    "- Radar chart code is referenced from [website](https://betterdatascience.com/radar-charts-matplotlib-plotly/)"
   ]
  },
  {
   "cell_type": "code",
   "execution_count": 43,
   "metadata": {},
   "outputs": [
    {
     "data": {
      "image/png": "[encoded data removed]",
      "text/plain": [
       "<Figure size 500x500 with 1 Axes>"
      ]
     },
     "metadata": {},
     "output_type": "display_data"
    }
   ],
   "source": [
    "categories = list(Continent.columns[1:4])\n",
    "categories = [*categories,categories[0]]\n",
    "\n",
    "label_loc = np.linspace(start=0, stop=2*np.pi, num=4)\n",
    "\n",
    "plt.figure(figsize=(5, 5))\n",
    "plt.subplot(polar=True)\n",
    "for i in range(len(Continent.index)):\n",
    "    data = list(Continent.iloc[i,1:4].apply(lambda x: math.log10(x)))\n",
    "    plt.plot(label_loc, [*data,data[0]], label=Continent.index[i])\n",
    "\n",
    "plt.title('Continents comparison (log scale)')\n",
    "lines, labels = plt.thetagrids(np.degrees(label_loc), labels=categories)\n",
    "plt.legend()\n",
    "plt.show()"
   ]
  },
  {
   "cell_type": "markdown",
   "metadata": {},
   "source": [
    "`Comment:` \n",
    "- Recovered rate is high in all continents.\n",
    "- Asia has highest total cases but the number of recovered and deaths is near to America and Europe.\n",
    "- "
   ]
  },
  {
   "cell_type": "code",
   "execution_count": 44,
   "metadata": {},
   "outputs": [
    {
     "data": {
      "application/vnd.plotly.v1+json": {
       "config": {
        "plotlyServerURL": "https://plot.ly"
       },
       "data": [
        {
         "name": "Total cases",
         "text": [
          12802223,
          214819047,
          14039060,
          247023846,
          125046486,
          68091121
         ],
         "textposition": "outside",
         "texttemplate": "%{text:.4s}",
         "type": "bar",
         "x": [
          "Africa",
          "Asia",
          "Australia/Oceania",
          "Europe",
          "North America",
          "South America"
         ],
         "y": [
          12802223,
          214819047,
          14039060,
          247023846,
          125046486,
          68091121
         ]
        },
        {
         "name": "Total Deaths",
         "text": [
          258615,
          1538868,
          26243,
          2023023,
          1615689,
          1351202
         ],
         "textposition": "outside",
         "texttemplate": "%{text:.4s}",
         "type": "bar",
         "x": [
          "Africa",
          "Asia",
          "Australia/Oceania",
          "Europe",
          "North America",
          "South America"
         ],
         "y": [
          258615,
          1538868,
          26243,
          2023023,
          1615689,
          1351202
         ]
        },
        {
         "name": "Total Recovered",
         "text": [
          10960262,
          182634450,
          13815896,
          242554318,
          120382331,
          65588188
         ],
         "textposition": "outside",
         "texttemplate": "%{text:.4s}",
         "type": "bar",
         "x": [
          "Africa",
          "Asia",
          "Australia/Oceania",
          "Europe",
          "North America",
          "South America"
         ],
         "y": [
          10960262,
          182634450,
          13815896,
          242554318,
          120382331,
          65588188
         ]
        }
       ],
       "layout": {
        "barmode": "group",
        "template": {
         "data": {
          "bar": [
           {
            "error_x": {
             "color": "#2a3f5f"
            },
            "error_y": {
             "color": "#2a3f5f"
            },
            "marker": {
             "line": {
              "color": "#E5ECF6",
              "width": 0.5
             },
             "pattern": {
              "fillmode": "overlay",
              "size": 10,
              "solidity": 0.2
             }
            },
            "type": "bar"
           }
          ],
          "barpolar": [
           {
            "marker": {
             "line": {
              "color": "#E5ECF6",
              "width": 0.5
             },
             "pattern": {
              "fillmode": "overlay",
              "size": 10,
              "solidity": 0.2
             }
            },
            "type": "barpolar"
           }
          ],
          "carpet": [
           {
            "aaxis": {
             "endlinecolor": "#2a3f5f",
             "gridcolor": "white",
             "linecolor": "white",
             "minorgridcolor": "white",
             "startlinecolor": "#2a3f5f"
            },
            "baxis": {
             "endlinecolor": "#2a3f5f",
             "gridcolor": "white",
             "linecolor": "white",
             "minorgridcolor": "white",
             "startlinecolor": "#2a3f5f"
            },
            "type": "carpet"
           }
          ],
          "choropleth": [
           {
            "colorbar": {
             "outlinewidth": 0,
             "ticks": ""
            },
            "type": "choropleth"
           }
          ],
          "contour": [
           {
            "colorbar": {
             "outlinewidth": 0,
             "ticks": ""
            },
            "colorscale": [
             [
              0,
              "#0d0887"
             ],
             [
              0.1111111111111111,
              "#46039f"
             ],
             [
              0.2222222222222222,
              "#7201a8"
             ],
             [
              0.3333333333333333,
              "#9c179e"
             ],
             [
              0.4444444444444444,
              "#bd3786"
             ],
             [
              0.5555555555555556,
              "#d8576b"
             ],
             [
              0.6666666666666666,
              "#ed7953"
             ],
             [
              0.7777777777777778,
              "#fb9f3a"
             ],
             [
              0.8888888888888888,
              "#fdca26"
             ],
             [
              1,
              "#f0f921"
             ]
            ],
            "type": "contour"
           }
          ],
          "contourcarpet": [
           {
            "colorbar": {
             "outlinewidth": 0,
             "ticks": ""
            },
            "type": "contourcarpet"
           }
          ],
          "heatmap": [
           {
            "colorbar": {
             "outlinewidth": 0,
             "ticks": ""
            },
            "colorscale": [
             [
              0,
              "#0d0887"
             ],
             [
              0.1111111111111111,
              "#46039f"
             ],
             [
              0.2222222222222222,
              "#7201a8"
             ],
             [
              0.3333333333333333,
              "#9c179e"
             ],
             [
              0.4444444444444444,
              "#bd3786"
             ],
             [
              0.5555555555555556,
              "#d8576b"
             ],
             [
              0.6666666666666666,
              "#ed7953"
             ],
             [
              0.7777777777777778,
              "#fb9f3a"
             ],
             [
              0.8888888888888888,
              "#fdca26"
             ],
             [
              1,
              "#f0f921"
             ]
            ],
            "type": "heatmap"
           }
          ],
          "heatmapgl": [
           {
            "colorbar": {
             "outlinewidth": 0,
             "ticks": ""
            },
            "colorscale": [
             [
              0,
              "#0d0887"
             ],
             [
              0.1111111111111111,
              "#46039f"
             ],
             [
              0.2222222222222222,
              "#7201a8"
             ],
             [
              0.3333333333333333,
              "#9c179e"
             ],
             [
              0.4444444444444444,
              "#bd3786"
             ],
             [
              0.5555555555555556,
              "#d8576b"
             ],
             [
              0.6666666666666666,
              "#ed7953"
             ],
             [
              0.7777777777777778,
              "#fb9f3a"
             ],
             [
              0.8888888888888888,
              "#fdca26"
             ],
             [
              1,
              "#f0f921"
             ]
            ],
            "type": "heatmapgl"
           }
          ],
          "histogram": [
           {
            "marker": {
             "pattern": {
              "fillmode": "overlay",
              "size": 10,
              "solidity": 0.2
             }
            },
            "type": "histogram"
           }
          ],
          "histogram2d": [
           {
            "colorbar": {
             "outlinewidth": 0,
             "ticks": ""
            },
            "colorscale": [
             [
              0,
              "#0d0887"
             ],
             [
              0.1111111111111111,
              "#46039f"
             ],
             [
              0.2222222222222222,
              "#7201a8"
             ],
             [
              0.3333333333333333,
              "#9c179e"
             ],
             [
              0.4444444444444444,
              "#bd3786"
             ],
             [
              0.5555555555555556,
              "#d8576b"
             ],
             [
              0.6666666666666666,
              "#ed7953"
             ],
             [
              0.7777777777777778,
              "#fb9f3a"
             ],
             [
              0.8888888888888888,
              "#fdca26"
             ],
             [
              1,
              "#f0f921"
             ]
            ],
            "type": "histogram2d"
           }
          ],
          "histogram2dcontour": [
           {
            "colorbar": {
             "outlinewidth": 0,
             "ticks": ""
            },
            "colorscale": [
             [
              0,
              "#0d0887"
             ],
             [
              0.1111111111111111,
              "#46039f"
             ],
             [
              0.2222222222222222,
              "#7201a8"
             ],
             [
              0.3333333333333333,
              "#9c179e"
             ],
             [
              0.4444444444444444,
              "#bd3786"
             ],
             [
              0.5555555555555556,
              "#d8576b"
             ],
             [
              0.6666666666666666,
              "#ed7953"
             ],
             [
              0.7777777777777778,
              "#fb9f3a"
             ],
             [
              0.8888888888888888,
              "#fdca26"
             ],
             [
              1,
              "#f0f921"
             ]
            ],
            "type": "histogram2dcontour"
           }
          ],
          "mesh3d": [
           {
            "colorbar": {
             "outlinewidth": 0,
             "ticks": ""
            },
            "type": "mesh3d"
           }
          ],
          "parcoords": [
           {
            "line": {
             "colorbar": {
              "outlinewidth": 0,
              "ticks": ""
             }
            },
            "type": "parcoords"
           }
          ],
          "pie": [
           {
            "automargin": true,
            "type": "pie"
           }
          ],
          "scatter": [
           {
            "fillpattern": {
             "fillmode": "overlay",
             "size": 10,
             "solidity": 0.2
            },
            "type": "scatter"
           }
          ],
          "scatter3d": [
           {
            "line": {
             "colorbar": {
              "outlinewidth": 0,
              "ticks": ""
             }
            },
            "marker": {
             "colorbar": {
              "outlinewidth": 0,
              "ticks": ""
             }
            },
            "type": "scatter3d"
           }
          ],
          "scattercarpet": [
           {
            "marker": {
             "colorbar": {
              "outlinewidth": 0,
              "ticks": ""
             }
            },
            "type": "scattercarpet"
           }
          ],
          "scattergeo": [
           {
            "marker": {
             "colorbar": {
              "outlinewidth": 0,
              "ticks": ""
             }
            },
            "type": "scattergeo"
           }
          ],
          "scattergl": [
           {
            "marker": {
             "colorbar": {
              "outlinewidth": 0,
              "ticks": ""
             }
            },
            "type": "scattergl"
           }
          ],
          "scattermapbox": [
           {
            "marker": {
             "colorbar": {
              "outlinewidth": 0,
              "ticks": ""
             }
            },
            "type": "scattermapbox"
           }
          ],
          "scatterpolar": [
           {
            "marker": {
             "colorbar": {
              "outlinewidth": 0,
              "ticks": ""
             }
            },
            "type": "scatterpolar"
           }
          ],
          "scatterpolargl": [
           {
            "marker": {
             "colorbar": {
              "outlinewidth": 0,
              "ticks": ""
             }
            },
            "type": "scatterpolargl"
           }
          ],
          "scatterternary": [
           {
            "marker": {
             "colorbar": {
              "outlinewidth": 0,
              "ticks": ""
             }
            },
            "type": "scatterternary"
           }
          ],
          "surface": [
           {
            "colorbar": {
             "outlinewidth": 0,
             "ticks": ""
            },
            "colorscale": [
             [
              0,
              "#0d0887"
             ],
             [
              0.1111111111111111,
              "#46039f"
             ],
             [
              0.2222222222222222,
              "#7201a8"
             ],
             [
              0.3333333333333333,
              "#9c179e"
             ],
             [
              0.4444444444444444,
              "#bd3786"
             ],
             [
              0.5555555555555556,
              "#d8576b"
             ],
             [
              0.6666666666666666,
              "#ed7953"
             ],
             [
              0.7777777777777778,
              "#fb9f3a"
             ],
             [
              0.8888888888888888,
              "#fdca26"
             ],
             [
              1,
              "#f0f921"
             ]
            ],
            "type": "surface"
           }
          ],
          "table": [
           {
            "cells": {
             "fill": {
              "color": "#EBF0F8"
             },
             "line": {
              "color": "white"
             }
            },
            "header": {
             "fill": {
              "color": "#C8D4E3"
             },
             "line": {
              "color": "white"
             }
            },
            "type": "table"
           }
          ]
         },
         "layout": {
          "annotationdefaults": {
           "arrowcolor": "#2a3f5f",
           "arrowhead": 0,
           "arrowwidth": 1
          },
          "autotypenumbers": "strict",
          "coloraxis": {
           "colorbar": {
            "outlinewidth": 0,
            "ticks": ""
           }
          },
          "colorscale": {
           "diverging": [
            [
             0,
             "#8e0152"
            ],
            [
             0.1,
             "#c51b7d"
            ],
            [
             0.2,
             "#de77ae"
            ],
            [
             0.3,
             "#f1b6da"
            ],
            [
             0.4,
             "#fde0ef"
            ],
            [
             0.5,
             "#f7f7f7"
            ],
            [
             0.6,
             "#e6f5d0"
            ],
            [
             0.7,
             "#b8e186"
            ],
            [
             0.8,
             "#7fbc41"
            ],
            [
             0.9,
             "#4d9221"
            ],
            [
             1,
             "#276419"
            ]
           ],
           "sequential": [
            [
             0,
             "#0d0887"
            ],
            [
             0.1111111111111111,
             "#46039f"
            ],
            [
             0.2222222222222222,
             "#7201a8"
            ],
            [
             0.3333333333333333,
             "#9c179e"
            ],
            [
             0.4444444444444444,
             "#bd3786"
            ],
            [
             0.5555555555555556,
             "#d8576b"
            ],
            [
             0.6666666666666666,
             "#ed7953"
            ],
            [
             0.7777777777777778,
             "#fb9f3a"
            ],
            [
             0.8888888888888888,
             "#fdca26"
            ],
            [
             1,
             "#f0f921"
            ]
           ],
           "sequentialminus": [
            [
             0,
             "#0d0887"
            ],
            [
             0.1111111111111111,
             "#46039f"
            ],
            [
             0.2222222222222222,
             "#7201a8"
            ],
            [
             0.3333333333333333,
             "#9c179e"
            ],
            [
             0.4444444444444444,
             "#bd3786"
            ],
            [
             0.5555555555555556,
             "#d8576b"
            ],
            [
             0.6666666666666666,
             "#ed7953"
            ],
            [
             0.7777777777777778,
             "#fb9f3a"
            ],
            [
             0.8888888888888888,
             "#fdca26"
            ],
            [
             1,
             "#f0f921"
            ]
           ]
          },
          "colorway": [
           "#636efa",
           "#EF553B",
           "#00cc96",
           "#ab63fa",
           "#FFA15A",
           "#19d3f3",
           "#FF6692",
           "#B6E880",
           "#FF97FF",
           "#FECB52"
          ],
          "font": {
           "color": "#2a3f5f"
          },
          "geo": {
           "bgcolor": "white",
           "lakecolor": "white",
           "landcolor": "#E5ECF6",
           "showlakes": true,
           "showland": true,
           "subunitcolor": "white"
          },
          "hoverlabel": {
           "align": "left"
          },
          "hovermode": "closest",
          "mapbox": {
           "style": "light"
          },
          "paper_bgcolor": "white",
          "plot_bgcolor": "#E5ECF6",
          "polar": {
           "angularaxis": {
            "gridcolor": "white",
            "linecolor": "white",
            "ticks": ""
           },
           "bgcolor": "#E5ECF6",
           "radialaxis": {
            "gridcolor": "white",
            "linecolor": "white",
            "ticks": ""
           }
          },
          "scene": {
           "xaxis": {
            "backgroundcolor": "#E5ECF6",
            "gridcolor": "white",
            "gridwidth": 2,
            "linecolor": "white",
            "showbackground": true,
            "ticks": "",
            "zerolinecolor": "white"
           },
           "yaxis": {
            "backgroundcolor": "#E5ECF6",
            "gridcolor": "white",
            "gridwidth": 2,
            "linecolor": "white",
            "showbackground": true,
            "ticks": "",
            "zerolinecolor": "white"
           },
           "zaxis": {
            "backgroundcolor": "#E5ECF6",
            "gridcolor": "white",
            "gridwidth": 2,
            "linecolor": "white",
            "showbackground": true,
            "ticks": "",
            "zerolinecolor": "white"
           }
          },
          "shapedefaults": {
           "line": {
            "color": "#2a3f5f"
           }
          },
          "ternary": {
           "aaxis": {
            "gridcolor": "white",
            "linecolor": "white",
            "ticks": ""
           },
           "baxis": {
            "gridcolor": "white",
            "linecolor": "white",
            "ticks": ""
           },
           "bgcolor": "#E5ECF6",
           "caxis": {
            "gridcolor": "white",
            "linecolor": "white",
            "ticks": ""
           }
          },
          "title": {
           "x": 0.05
          },
          "xaxis": {
           "automargin": true,
           "gridcolor": "white",
           "linecolor": "white",
           "ticks": "",
           "title": {
            "standoff": 15
           },
           "zerolinecolor": "white",
           "zerolinewidth": 2
          },
          "yaxis": {
           "automargin": true,
           "gridcolor": "white",
           "linecolor": "white",
           "ticks": "",
           "title": {
            "standoff": 15
           },
           "zerolinecolor": "white",
           "zerolinewidth": 2
          }
         }
        },
        "yaxis": {
         "range": [
          0,
          300000000
         ]
        }
       }
      }
     },
     "metadata": {},
     "output_type": "display_data"
    }
   ],
   "source": [
    "fig=go.Figure(data=[\n",
    "      go.Bar(name='Total cases',x=Continent.index,y=Continent['Total Cases'],text=Continent['Total Cases']),\n",
    "      go.Bar(name='Total Deaths',x=Continent.index,y=Continent['Total Deaths'],text=Continent['Total Deaths']),\n",
    "      go.Bar(name='Total Recovered',x=Continent.index,y=Continent['Total Recovered'],text=Continent['Total Recovered'])\n",
    "   ])\n",
    "fig.update_layout(barmode='group')\n",
    "fig.update_traces(texttemplate='%{text:.4s}', textposition='outside')\n",
    "fig.update_layout(yaxis_range=[0,300000000])\n",
    "fig.show()"
   ]
  },
  {
   "cell_type": "markdown",
   "metadata": {},
   "source": [
    "`Comment`:"
   ]
  },
  {
   "cell_type": "code",
   "execution_count": 45,
   "metadata": {},
   "outputs": [
    {
     "data": {
      "text/html": [
       "<div>\n",
       "<style scoped>\n",
       "    .dataframe tbody tr th:only-of-type {\n",
       "        vertical-align: middle;\n",
       "    }\n",
       "\n",
       "    .dataframe tbody tr th {\n",
       "        vertical-align: top;\n",
       "    }\n",
       "\n",
       "    .dataframe thead th {\n",
       "        text-align: right;\n",
       "    }\n",
       "</style>\n",
       "<table border=\"1\" class=\"dataframe\">\n",
       "  <thead>\n",
       "    <tr style=\"text-align: right;\">\n",
       "      <th></th>\n",
       "      <th>Total Cases</th>\n",
       "      <th>Total Deaths</th>\n",
       "      <th>Total Recovered</th>\n",
       "      <th>Active Cases</th>\n",
       "    </tr>\n",
       "    <tr>\n",
       "      <th>Continent</th>\n",
       "      <th></th>\n",
       "      <th></th>\n",
       "      <th></th>\n",
       "      <th></th>\n",
       "    </tr>\n",
       "  </thead>\n",
       "  <tbody>\n",
       "    <tr>\n",
       "      <th>Africa</th>\n",
       "      <td>11556054</td>\n",
       "      <td>228110.0</td>\n",
       "      <td>10960260.0</td>\n",
       "      <td>367684.0</td>\n",
       "    </tr>\n",
       "    <tr>\n",
       "      <th>Asia</th>\n",
       "      <td>197558301</td>\n",
       "      <td>1436618.0</td>\n",
       "      <td>182634450.0</td>\n",
       "      <td>13487233.0</td>\n",
       "    </tr>\n",
       "    <tr>\n",
       "      <th>Australia/Oceania</th>\n",
       "      <td>13908879</td>\n",
       "      <td>25380.0</td>\n",
       "      <td>13815105.0</td>\n",
       "      <td>68394.0</td>\n",
       "    </tr>\n",
       "    <tr>\n",
       "      <th>Europe</th>\n",
       "      <td>246741983</td>\n",
       "      <td>2022650.0</td>\n",
       "      <td>242554289.0</td>\n",
       "      <td>2165044.0</td>\n",
       "    </tr>\n",
       "    <tr>\n",
       "      <th>North America</th>\n",
       "      <td>124129707</td>\n",
       "      <td>1602400.0</td>\n",
       "      <td>120382331.0</td>\n",
       "      <td>2144976.0</td>\n",
       "    </tr>\n",
       "    <tr>\n",
       "      <th>South America</th>\n",
       "      <td>67198217</td>\n",
       "      <td>1329918.0</td>\n",
       "      <td>65586258.0</td>\n",
       "      <td>282041.0</td>\n",
       "    </tr>\n",
       "  </tbody>\n",
       "</table>\n",
       "</div>"
      ],
      "text/plain": [
       "                   Total Cases  Total Deaths  Total Recovered  Active Cases\n",
       "Continent                                                                  \n",
       "Africa                11556054      228110.0       10960260.0      367684.0\n",
       "Asia                 197558301     1436618.0      182634450.0    13487233.0\n",
       "Australia/Oceania     13908879       25380.0       13815105.0       68394.0\n",
       "Europe               246741983     2022650.0      242554289.0     2165044.0\n",
       "North America        124129707     1602400.0      120382331.0     2144976.0\n",
       "South America         67198217     1329918.0       65586258.0      282041.0"
      ]
     },
     "execution_count": 45,
     "metadata": {},
     "output_type": "execute_result"
    }
   ],
   "source": [
    "# continent need to be dropna before calculating, it makes sure that sum of percentage is 100%\n",
    "Continent = df[['Total Cases','Total Deaths','Total Recovered','Active Cases','Continent']]\n",
    "Continent = Continent.dropna().groupby('Continent').sum()#.astype(int)\n",
    "Continent"
   ]
  },
  {
   "cell_type": "code",
   "execution_count": 46,
   "metadata": {},
   "outputs": [
    {
     "data": {
      "text/html": [
       "<div>\n",
       "<style scoped>\n",
       "    .dataframe tbody tr th:only-of-type {\n",
       "        vertical-align: middle;\n",
       "    }\n",
       "\n",
       "    .dataframe tbody tr th {\n",
       "        vertical-align: top;\n",
       "    }\n",
       "\n",
       "    .dataframe thead th {\n",
       "        text-align: right;\n",
       "    }\n",
       "</style>\n",
       "<table border=\"1\" class=\"dataframe\">\n",
       "  <thead>\n",
       "    <tr style=\"text-align: right;\">\n",
       "      <th></th>\n",
       "      <th>Total Recovered</th>\n",
       "      <th>Total Deaths</th>\n",
       "      <th>Active Cases</th>\n",
       "    </tr>\n",
       "    <tr>\n",
       "      <th>Continent</th>\n",
       "      <th></th>\n",
       "      <th></th>\n",
       "      <th></th>\n",
       "    </tr>\n",
       "  </thead>\n",
       "  <tbody>\n",
       "    <tr>\n",
       "      <th>Africa</th>\n",
       "      <td>94.844313</td>\n",
       "      <td>1.973944</td>\n",
       "      <td>3.181744</td>\n",
       "    </tr>\n",
       "    <tr>\n",
       "      <th>Asia</th>\n",
       "      <td>92.445850</td>\n",
       "      <td>0.727187</td>\n",
       "      <td>6.826963</td>\n",
       "    </tr>\n",
       "    <tr>\n",
       "      <th>Australia/Oceania</th>\n",
       "      <td>99.325798</td>\n",
       "      <td>0.182473</td>\n",
       "      <td>0.491729</td>\n",
       "    </tr>\n",
       "    <tr>\n",
       "      <th>Europe</th>\n",
       "      <td>98.302804</td>\n",
       "      <td>0.819743</td>\n",
       "      <td>0.877453</td>\n",
       "    </tr>\n",
       "    <tr>\n",
       "      <th>North America</th>\n",
       "      <td>96.981080</td>\n",
       "      <td>1.290908</td>\n",
       "      <td>1.728012</td>\n",
       "    </tr>\n",
       "    <tr>\n",
       "      <th>South America</th>\n",
       "      <td>97.601188</td>\n",
       "      <td>1.979097</td>\n",
       "      <td>0.419715</td>\n",
       "    </tr>\n",
       "  </tbody>\n",
       "</table>\n",
       "</div>"
      ],
      "text/plain": [
       "                   Total Recovered  Total Deaths  Active Cases\n",
       "Continent                                                     \n",
       "Africa                   94.844313      1.973944      3.181744\n",
       "Asia                     92.445850      0.727187      6.826963\n",
       "Australia/Oceania        99.325798      0.182473      0.491729\n",
       "Europe                   98.302804      0.819743      0.877453\n",
       "North America            96.981080      1.290908      1.728012\n",
       "South America            97.601188      1.979097      0.419715"
      ]
     },
     "execution_count": 46,
     "metadata": {},
     "output_type": "execute_result"
    }
   ],
   "source": [
    "percent_continent = Continent[['Total Recovered','Total Deaths','Active Cases']].div(Continent['Total Cases'], 0)*100\n",
    "percent_continent"
   ]
  },
  {
   "cell_type": "code",
   "execution_count": 48,
   "metadata": {},
   "outputs": [
    {
     "data": {
      "image/png": "[encoded data removed]",
      "text/plain": [
       "<Figure size 640x480 with 1 Axes>"
      ]
     },
     "metadata": {},
     "output_type": "display_data"
    }
   ],
   "source": [
    "from matplotlib.ticker import FormatStrFormatter\n",
    "\n",
    "percent_continent.plot(kind='bar', stacked=True, colormap='tab10')\n",
    "\n",
    "plt.legend(ncol=3)\n",
    "plt.xlabel(\"Continents\")\n",
    "plt.ylabel(\"Proportion\")\n",
    "plt.yticks(range(0,101,10))\n",
    "plt.gca().yaxis.set_major_formatter(FormatStrFormatter('%d%%'))\n",
    "plt.show()"
   ]
  },
  {
   "cell_type": "markdown",
   "metadata": {},
   "source": [
    "`Comment:`\n",
    "- Asia has the highest active cases.\n",
    "- Australia/Oceania seems to be dealing with Covid epidemic most effectively.\n",
    "- Meanwhile, Africa and South America have the highest Deaths ratio."
   ]
  },
  {
   "attachments": {},
   "cell_type": "markdown",
   "metadata": {},
   "source": [
    "## Analysis of disease control in continents"
   ]
  },
  {
   "cell_type": "code",
   "execution_count": 49,
   "metadata": {},
   "outputs": [],
   "source": [
    "newDf1 = df[['Tests/ 1M pop','Continent']]\n",
    "ContinentForTest = newDf1.dropna().groupby('Continent').mean().astype(int).apply(lambda x: x/pow(10,4))\n",
    "ContinentForTest.rename(columns = {'Tests/ 1M pop':'Test rate per person'}, inplace = True)"
   ]
  },
  {
   "cell_type": "code",
   "execution_count": 50,
   "metadata": {},
   "outputs": [
    {
     "data": {
      "image/png": "[encoded data removed]",
      "text/plain": [
       "<Figure size 640x480 with 1 Axes>"
      ]
     },
     "metadata": {},
     "output_type": "display_data"
    }
   ],
   "source": [
    "fig, ax = plt.subplots()\n",
    "continents = list(ContinentForTest.index)\n",
    "numCon0 = np.arange(0,len(continents))  \n",
    "raito = ContinentForTest['Test rate per person'].values\n",
    "ax.bar(continents,raito) \n",
    "ax.set_ylabel('Percentage of testing per person (%)')\n",
    "ax.set_xlabel('Continent')\n",
    "ax.set_title('Test percentage in each continent')\n",
    "plt.xticks(numCon0,continents,rotation=60)\n",
    "plt.show()"
   ]
  },
  {
   "cell_type": "markdown",
   "metadata": {},
   "source": [
    "`Comment:` \n",
    "- The rate of people being tested in Europe is the highest of all continents, which shows that Europe's epidemic screening is quite effective at the testing stage to screen for infected and non-infected cases.\n",
    "- The testing rate of people in Africa is the lowest, which shows that the ability to screen for infected and non-infected cases is the lowest in all continents and at an alarming rate."
   ]
  },
  {
   "cell_type": "code",
   "execution_count": 51,
   "metadata": {},
   "outputs": [],
   "source": [
    "newDf2 = df[['Deaths/ 1M pop','Continent']]\n",
    "ContinentForDeath = newDf2.dropna().groupby('Continent').mean().astype(int).apply(lambda x: x/pow(10,4))\n",
    "ContinentForDeath.rename(columns = {'Deaths/ 1M pop':'Death rate per person'}, inplace = True)"
   ]
  },
  {
   "cell_type": "code",
   "execution_count": 52,
   "metadata": {},
   "outputs": [
    {
     "data": {
      "image/png": "[encoded data removed]",
      "text/plain": [
       "<Figure size 640x480 with 1 Axes>"
      ]
     },
     "metadata": {},
     "output_type": "display_data"
    }
   ],
   "source": [
    "fig, ax = plt.subplots()\n",
    "continents1 = list(ContinentForDeath.index)\n",
    "numCon1 = np.arange(0,len(continents1))  \n",
    "raito = ContinentForDeath['Death rate per person'].values\n",
    "ax.bar(continents,raito) \n",
    "ax.set_ylabel('Death rate per person ')\n",
    "ax.set_xlabel('Continent')\n",
    "ax.set_title('Death ratio in each continent')\n",
    "plt.xticks(numCon1,continents1,rotation = 60)\n",
    "plt.show()"
   ]
  },
  {
   "cell_type": "markdown",
   "metadata": {},
   "source": [
    "`Comment:` Europe is the place with the highest death rate from infection, the second highest death rate is South America, the lowest mortality rate is Africa."
   ]
  },
  {
   "cell_type": "code",
   "execution_count": 53,
   "metadata": {},
   "outputs": [],
   "source": [
    "newDf3 = df[['1M pop','Continent']]\n",
    "ContinentForCase = newDf3.dropna().groupby('Continent').mean().astype(int).apply(lambda x: x/pow(10,6))\n",
    "ContinentForCase.rename(columns = {'1M pop':'Case rate'}, inplace = True)"
   ]
  },
  {
   "cell_type": "code",
   "execution_count": 54,
   "metadata": {},
   "outputs": [
    {
     "data": {
      "image/png": "[encoded data removed]",
      "text/plain": [
       "<Figure size 640x480 with 1 Axes>"
      ]
     },
     "metadata": {},
     "output_type": "display_data"
    }
   ],
   "source": [
    "fig, ax = plt.subplots()\n",
    "ContinentForCaseIndex = list(ContinentForCase.index)\n",
    "numCon1 = np.arange(0,len(ContinentForCaseIndex))  \n",
    "raito = ContinentForCase['Case rate'].values\n",
    "ax.bar(ContinentForCaseIndex,raito) \n",
    "ax.set_ylabel('Infection rate per person ')\n",
    "ax.set_xlabel('Continent')\n",
    "ax.set_title('Case ratio in each continent')\n",
    "plt.xticks(numCon1,ContinentForCaseIndex,rotation = 60)\n",
    "plt.show()"
   ]
  },
  {
   "cell_type": "markdown",
   "metadata": {},
   "source": [
    "`Comment: `\n",
    "- The rate of one person dying from the disease is highest in Europe, followed by Australia/Oceania and North America, and the rate is quite high, it is approximately many times the rest of the continents."
   ]
  },
  {
   "cell_type": "code",
   "execution_count": 55,
   "metadata": {},
   "outputs": [],
   "source": [
    "newDf3 = df[['Tests/ 1M pop','1M pop','Continent']]\n",
    "Continent2 = newDf3.dropna().groupby('Continent').mean().astype(int).apply(lambda x: round(x/pow(10,4),1))\n",
    "Continent2.rename(columns = {'1M pop':'Rate of infection per person'}, inplace = True)\n",
    "Continent2.rename(columns = {'Tests/ 1M pop':'Testing rate per person'}, inplace = True)"
   ]
  },
  {
   "cell_type": "code",
   "execution_count": 56,
   "metadata": {},
   "outputs": [
    {
     "data": {
      "text/plain": [
       "<AxesSubplot: xlabel='Continent'>"
      ]
     },
     "execution_count": 56,
     "metadata": {},
     "output_type": "execute_result"
    },
    {
     "data": {
      "image/png": "[encoded data removed]",
      "text/plain": [
       "<Figure size 1000x500 with 1 Axes>"
      ]
     },
     "metadata": {},
     "output_type": "display_data"
    }
   ],
   "source": [
    "Continent2.plot.bar(rot=0,width=0.8,figsize=(10,5))"
   ]
  },
  {
   "cell_type": "markdown",
   "metadata": {},
   "source": [
    "`Comment:` \n",
    "- What an interesting statistic, Europe with the highest rate of testing per population is also the continent with the highest number of cases, which shows that the disease originated in Asia but exploded quite strong in Europe.\n",
    "- The continent with the second highest rate of infections is Oceania, which is also strange when the outbreak is Asia.\n",
    "- And Asia, where the disease occurs, has the lowest infection rate among the continents and is only above Africa, which shows that Asia has quite effective disease handling options. In contrast, Europe and Oceania have not handled well in handling the disease, causing the disease to spread quickly, which can be identified by the number of cases."
   ]
  },
  {
   "cell_type": "code",
   "execution_count": 57,
   "metadata": {},
   "outputs": [],
   "source": [
    "newDf4 = df[['Country, Other','Total Cases','Population', 'Continent']].dropna()\n",
    "newDf4['Rate case per population (%)'] = newDf4['Total Cases']*100/newDf4['Population']\n",
    "nationCase = newDf4.sort_values('Rate case per population (%)', ascending=False)\n",
    "nationCase = nationCase[['Country, Other','Continent','Rate case per population (%)']]"
   ]
  },
  {
   "cell_type": "code",
   "execution_count": 58,
   "metadata": {},
   "outputs": [
    {
     "data": {
      "image/png": "[encoded data removed]",
      "text/plain": [
       "<Figure size 640x480 with 1 Axes>"
      ]
     },
     "metadata": {},
     "output_type": "display_data"
    }
   ],
   "source": [
    "fig, ax = plt.subplots()\n",
    "country = list(nationCase['Country, Other'])\n",
    "values = np.array(nationCase['Rate case per population (%)'])\n",
    "bar_labels = ['Europe','Europe','Europe','Europe','Asia']\n",
    "bar_colors = ['tab:red','tab:red','tab:red','tab:red','tab:orange']\n",
    "ax.bar(country[0],values[0], label = bar_labels[0], color = bar_colors[0])\n",
    "ax.bar(country[1],values[1], color = bar_colors[1])\n",
    "ax.bar(country[2],values[2], color = bar_colors[2])\n",
    "ax.bar(country[3],values[3], color = bar_colors[3])\n",
    "ax.bar(country[4],values[4], label = bar_labels[4], color = bar_colors[4])\n",
    "ax.set_ylabel('Rate case per population (%)')\n",
    "ax.set_title('Countries with the highest number of infections in the world')\n",
    "ax.legend(title = 'Continent')\n",
    "plt.xticks(rotation = 30)\n",
    "ax.set_ylim(0,100)\n",
    "plt.show()\n"
   ]
  },
  {
   "cell_type": "markdown",
   "metadata": {},
   "source": [
    "`Comment: `\n",
    "- The top 5 countries with the highest percentage of infected populations are European countries and one country in Asia, the rate of population infected in the top 5 countries is quite high in the range of 62% to 70% (WHO recommends that when the proportion of the population infected with COVID-19 exceeds 10% of the total population of a particular area, the health system in that area may become overwhelmed and unable to provide adequate supplies provide medical services to people with COVID-19 and other illnesses). This shows that the epidemic situation in these countries is quite serious, which does not exclude the possibility that reinfection cases exist in the data, but the number of such populations is quite high. This could potentially lead to an overload of the medical department."
   ]
  },
  {
   "attachments": {},
   "cell_type": "markdown",
   "metadata": {},
   "source": [
    "## Phân tích top 10 quốc gia"
   ]
  },
  {
   "cell_type": "markdown",
   "metadata": {},
   "source": [
    "### Phân tích dữ liệu 10 quốc gia có số ca nhiễm nhiều nhất trên thế giới:"
   ]
  },
  {
   "cell_type": "code",
   "execution_count": 59,
   "metadata": {},
   "outputs": [
    {
     "data": {
      "text/html": [
       "<div>\n",
       "<style scoped>\n",
       "    .dataframe tbody tr th:only-of-type {\n",
       "        vertical-align: middle;\n",
       "    }\n",
       "\n",
       "    .dataframe tbody tr th {\n",
       "        vertical-align: top;\n",
       "    }\n",
       "\n",
       "    .dataframe thead th {\n",
       "        text-align: right;\n",
       "    }\n",
       "</style>\n",
       "<table border=\"1\" class=\"dataframe\">\n",
       "  <thead>\n",
       "    <tr style=\"text-align: right;\">\n",
       "      <th></th>\n",
       "      <th>Country, Other</th>\n",
       "      <th>Total Cases</th>\n",
       "      <th>Total Deaths</th>\n",
       "      <th>Total Recovered</th>\n",
       "      <th>Active Cases</th>\n",
       "      <th>Serious, Critical</th>\n",
       "      <th>1M pop</th>\n",
       "      <th>Deaths/ 1M pop</th>\n",
       "      <th>Total Tests</th>\n",
       "      <th>Tests/ 1M pop</th>\n",
       "      <th>Population</th>\n",
       "      <th>Continent</th>\n",
       "    </tr>\n",
       "  </thead>\n",
       "  <tbody>\n",
       "    <tr>\n",
       "      <th>0</th>\n",
       "      <td>USA</td>\n",
       "      <td>105665981</td>\n",
       "      <td>1149253.0</td>\n",
       "      <td>103319965.0</td>\n",
       "      <td>1196763.0</td>\n",
       "      <td>2157.0</td>\n",
       "      <td>315604.0</td>\n",
       "      <td>3433.0</td>\n",
       "      <td>1.169268e+09</td>\n",
       "      <td>3492381.0</td>\n",
       "      <td>3.348053e+08</td>\n",
       "      <td>North America</td>\n",
       "    </tr>\n",
       "    <tr>\n",
       "      <th>1</th>\n",
       "      <td>India</td>\n",
       "      <td>44691956</td>\n",
       "      <td>530789.0</td>\n",
       "      <td>44156970.0</td>\n",
       "      <td>4197.0</td>\n",
       "      <td>NaN</td>\n",
       "      <td>31772.0</td>\n",
       "      <td>377.0</td>\n",
       "      <td>9.198164e+08</td>\n",
       "      <td>653914.0</td>\n",
       "      <td>1.406632e+09</td>\n",
       "      <td>Asia</td>\n",
       "    </tr>\n",
       "    <tr>\n",
       "      <th>2</th>\n",
       "      <td>France</td>\n",
       "      <td>39667102</td>\n",
       "      <td>165240.0</td>\n",
       "      <td>39435308.0</td>\n",
       "      <td>66554.0</td>\n",
       "      <td>869.0</td>\n",
       "      <td>604824.0</td>\n",
       "      <td>2519.0</td>\n",
       "      <td>2.714902e+08</td>\n",
       "      <td>4139547.0</td>\n",
       "      <td>6.558452e+07</td>\n",
       "      <td>Europe</td>\n",
       "    </tr>\n",
       "    <tr>\n",
       "      <th>3</th>\n",
       "      <td>Germany</td>\n",
       "      <td>38276190</td>\n",
       "      <td>169345.0</td>\n",
       "      <td>37906300.0</td>\n",
       "      <td>200545.0</td>\n",
       "      <td>NaN</td>\n",
       "      <td>456301.0</td>\n",
       "      <td>2019.0</td>\n",
       "      <td>1.223324e+08</td>\n",
       "      <td>1458359.0</td>\n",
       "      <td>8.388360e+07</td>\n",
       "      <td>Europe</td>\n",
       "    </tr>\n",
       "    <tr>\n",
       "      <th>4</th>\n",
       "      <td>Brazil</td>\n",
       "      <td>37085520</td>\n",
       "      <td>699310.0</td>\n",
       "      <td>36249161.0</td>\n",
       "      <td>137049.0</td>\n",
       "      <td>NaN</td>\n",
       "      <td>172208.0</td>\n",
       "      <td>3247.0</td>\n",
       "      <td>6.377617e+07</td>\n",
       "      <td>296146.0</td>\n",
       "      <td>2.153536e+08</td>\n",
       "      <td>South America</td>\n",
       "    </tr>\n",
       "    <tr>\n",
       "      <th>5</th>\n",
       "      <td>Japan</td>\n",
       "      <td>33346529</td>\n",
       "      <td>73334.0</td>\n",
       "      <td>21704743.0</td>\n",
       "      <td>11568452.0</td>\n",
       "      <td>119.0</td>\n",
       "      <td>265530.0</td>\n",
       "      <td>584.0</td>\n",
       "      <td>9.645984e+07</td>\n",
       "      <td>768085.0</td>\n",
       "      <td>1.255848e+08</td>\n",
       "      <td>Asia</td>\n",
       "    </tr>\n",
       "    <tr>\n",
       "      <th>6</th>\n",
       "      <td>S. Korea</td>\n",
       "      <td>30662229</td>\n",
       "      <td>34131.0</td>\n",
       "      <td>30455545.0</td>\n",
       "      <td>172553.0</td>\n",
       "      <td>147.0</td>\n",
       "      <td>597356.0</td>\n",
       "      <td>665.0</td>\n",
       "      <td>1.580406e+07</td>\n",
       "      <td>307892.0</td>\n",
       "      <td>5.132990e+07</td>\n",
       "      <td>Asia</td>\n",
       "    </tr>\n",
       "    <tr>\n",
       "      <th>7</th>\n",
       "      <td>Italy</td>\n",
       "      <td>25627473</td>\n",
       "      <td>188538.0</td>\n",
       "      <td>25294864.0</td>\n",
       "      <td>144071.0</td>\n",
       "      <td>104.0</td>\n",
       "      <td>425262.0</td>\n",
       "      <td>3129.0</td>\n",
       "      <td>2.686743e+08</td>\n",
       "      <td>4458380.0</td>\n",
       "      <td>6.026277e+07</td>\n",
       "      <td>Europe</td>\n",
       "    </tr>\n",
       "    <tr>\n",
       "      <th>8</th>\n",
       "      <td>UK</td>\n",
       "      <td>24396534</td>\n",
       "      <td>207695.0</td>\n",
       "      <td>24138845.0</td>\n",
       "      <td>49994.0</td>\n",
       "      <td>NaN</td>\n",
       "      <td>356165.0</td>\n",
       "      <td>3032.0</td>\n",
       "      <td>5.225265e+08</td>\n",
       "      <td>7628357.0</td>\n",
       "      <td>6.849791e+07</td>\n",
       "      <td>Europe</td>\n",
       "    </tr>\n",
       "    <tr>\n",
       "      <th>9</th>\n",
       "      <td>Russia</td>\n",
       "      <td>22454933</td>\n",
       "      <td>396696.0</td>\n",
       "      <td>21806101.0</td>\n",
       "      <td>252136.0</td>\n",
       "      <td>NaN</td>\n",
       "      <td>154006.0</td>\n",
       "      <td>2721.0</td>\n",
       "      <td>2.734000e+08</td>\n",
       "      <td>1875095.0</td>\n",
       "      <td>1.458059e+08</td>\n",
       "      <td>Europe</td>\n",
       "    </tr>\n",
       "  </tbody>\n",
       "</table>\n",
       "</div>"
      ],
      "text/plain": [
       "  Country, Other  Total Cases  Total Deaths  Total Recovered  Active Cases  \\\n",
       "0            USA    105665981     1149253.0      103319965.0     1196763.0   \n",
       "1          India     44691956      530789.0       44156970.0        4197.0   \n",
       "2         France     39667102      165240.0       39435308.0       66554.0   \n",
       "3        Germany     38276190      169345.0       37906300.0      200545.0   \n",
       "4         Brazil     37085520      699310.0       36249161.0      137049.0   \n",
       "5          Japan     33346529       73334.0       21704743.0    11568452.0   \n",
       "6       S. Korea     30662229       34131.0       30455545.0      172553.0   \n",
       "7          Italy     25627473      188538.0       25294864.0      144071.0   \n",
       "8             UK     24396534      207695.0       24138845.0       49994.0   \n",
       "9         Russia     22454933      396696.0       21806101.0      252136.0   \n",
       "\n",
       "   Serious, Critical    1M pop  Deaths/ 1M pop   Total Tests  Tests/ 1M pop  \\\n",
       "0             2157.0  315604.0          3433.0  1.169268e+09      3492381.0   \n",
       "1                NaN   31772.0           377.0  9.198164e+08       653914.0   \n",
       "2              869.0  604824.0          2519.0  2.714902e+08      4139547.0   \n",
       "3                NaN  456301.0          2019.0  1.223324e+08      1458359.0   \n",
       "4                NaN  172208.0          3247.0  6.377617e+07       296146.0   \n",
       "5              119.0  265530.0           584.0  9.645984e+07       768085.0   \n",
       "6              147.0  597356.0           665.0  1.580406e+07       307892.0   \n",
       "7              104.0  425262.0          3129.0  2.686743e+08      4458380.0   \n",
       "8                NaN  356165.0          3032.0  5.225265e+08      7628357.0   \n",
       "9                NaN  154006.0          2721.0  2.734000e+08      1875095.0   \n",
       "\n",
       "     Population      Continent  \n",
       "0  3.348053e+08  North America  \n",
       "1  1.406632e+09           Asia  \n",
       "2  6.558452e+07         Europe  \n",
       "3  8.388360e+07         Europe  \n",
       "4  2.153536e+08  South America  \n",
       "5  1.255848e+08           Asia  \n",
       "6  5.132990e+07           Asia  \n",
       "7  6.026277e+07         Europe  \n",
       "8  6.849791e+07         Europe  \n",
       "9  1.458059e+08         Europe  "
      ]
     },
     "execution_count": 59,
     "metadata": {},
     "output_type": "execute_result"
    }
   ],
   "source": [
    "top_10=df.sort_values(by=['Total Cases'],ascending=False)[:10]\n",
    "top_10 "
   ]
  },
  {
   "cell_type": "markdown",
   "metadata": {},
   "source": [
    "#### 1. Nhận xét về Total Cases, Total Recovered, Total Deaths, Active Cases:"
   ]
  },
  {
   "cell_type": "code",
   "execution_count": 60,
   "metadata": {},
   "outputs": [
    {
     "data": {
      "text/plain": [
       "<AxesSubplot: xlabel='Country, Other'>"
      ]
     },
     "execution_count": 60,
     "metadata": {},
     "output_type": "execute_result"
    },
    {
     "data": {
      "image/png": "[encoded data removed]",
      "text/plain": [
       "<Figure size 1500x1000 with 1 Axes>"
      ]
     },
     "metadata": {},
     "output_type": "display_data"
    }
   ],
   "source": [
    "df1=top_10[['Country, Other','Total Cases', 'Total Recovered', 'Total Deaths','Active Cases']]\n",
    "df1=df1.set_index('Country, Other')\n",
    "df1.plot.bar(rot=0,width=0.8,figsize=(15,10))"
   ]
  },
  {
   "cell_type": "markdown",
   "metadata": {},
   "source": [
    "- Tốc độ phục hồi dịch bệnh của các nước đều rất tốt ('TotalRecovered' xấp xỉ gần bằng 'TotalCases'), tất cả các nước không có sự chênh lệch gì quá đáng kể.\n",
    "- USA và Japan là những nước đang có tỉ lệ số ca đang điều trị ( ActiveCases/ TotalCases) lớn trong top10, tuy nhiên nổi trội nhất chỉ có Japan, có vẻ như tình hình dịch bệnh vẫn còn đang căng thẳng ở đây. Nhưng nhìn chung, các nước đều đang kiểm soát được dịch (tỉ lệ ActiveCases/ TotalCases thấp).\n",
    "- Tỉ lệ tử vong nhìn chung thấp, chứng tỏ bệnh không gây chết nhiều"
   ]
  },
  {
   "cell_type": "markdown",
   "metadata": {},
   "source": [
    "#### 2. Tương quan Serious, Critical so với Active Cases:"
   ]
  },
  {
   "cell_type": "code",
   "execution_count": 61,
   "metadata": {},
   "outputs": [
    {
     "data": {
      "image/png": "[encoded data removed]",
      "text/plain": [
       "<Figure size 640x480 with 1 Axes>"
      ]
     },
     "metadata": {},
     "output_type": "display_data"
    }
   ],
   "source": [
    "plt.scatter(x=top_10['Serious, Critical'], y=top_10['Active Cases'])\n",
    "plt.xlabel('Serious,Critical')\n",
    "plt.ylabel('ActiveCases')\n",
    "plt.show()"
   ]
  },
  {
   "cell_type": "markdown",
   "metadata": {},
   "source": [
    "- Ta thấy hai biến 'Serious, Critical' và 'ActiveCases' không có mối liên hệ với nhau. Nhưng biểu đồ vẫn cho ta thấy tỷ lệ bị biến chứng nặng do bệnh gây ra không nhiều."
   ]
  },
  {
   "cell_type": "markdown",
   "metadata": {},
   "source": [
    "#### 3. Nhận xét mối quan hệ giữa Total Cases/1M pop, Total Deaths/1M pop, Total Tests/1M pop:"
   ]
  },
  {
   "cell_type": "code",
   "execution_count": 62,
   "metadata": {},
   "outputs": [
    {
     "data": {
      "text/plain": [
       "array([[<AxesSubplot: xlabel='TotCases/ 1M pop', ylabel='TotCases/ 1M pop'>,\n",
       "        <AxesSubplot: xlabel='Deaths/ 1M pop', ylabel='TotCases/ 1M pop'>,\n",
       "        <AxesSubplot: xlabel='Tests/ 1M pop', ylabel='TotCases/ 1M pop'>],\n",
       "       [<AxesSubplot: xlabel='TotCases/ 1M pop', ylabel='Deaths/ 1M pop'>,\n",
       "        <AxesSubplot: xlabel='Deaths/ 1M pop', ylabel='Deaths/ 1M pop'>,\n",
       "        <AxesSubplot: xlabel='Tests/ 1M pop', ylabel='Deaths/ 1M pop'>],\n",
       "       [<AxesSubplot: xlabel='TotCases/ 1M pop', ylabel='Tests/ 1M pop'>,\n",
       "        <AxesSubplot: xlabel='Deaths/ 1M pop', ylabel='Tests/ 1M pop'>,\n",
       "        <AxesSubplot: xlabel='Tests/ 1M pop', ylabel='Tests/ 1M pop'>]],\n",
       "      dtype=object)"
      ]
     },
     "execution_count": 62,
     "metadata": {},
     "output_type": "execute_result"
    },
    {
     "data": {
      "image/png": "[encoded data removed]",
      "text/plain": [
       "<Figure size 640x480 with 9 Axes>"
      ]
     },
     "metadata": {},
     "output_type": "display_data"
    }
   ],
   "source": [
    "top_10['TotCases/ 1M pop'] = top_10['Total Cases']/ top_10['1M pop']\n",
    "df1=top_10[['TotCases/ 1M pop','Deaths/ 1M pop','Tests/ 1M pop']]\n",
    "pd.plotting.scatter_matrix(df1)"
   ]
  },
  {
   "cell_type": "markdown",
   "metadata": {},
   "source": [
    "- Các histogram của 'TotCases/1M pop', 'Tests/1M pop', 'Deaths/1M pop' đều không đạt phân phối chuẩn.\n",
    "- Histogram của cả 3 thuộc tính đều có xu hướng tăng, tuy nhiên không quá nhiều.\n",
    "- Giữa 2 biến 'TotCases/1M pop' và 'Tests/1M pop' có mối quan hệ thuận, nghĩa là nếu 'Tests/1M pop' tăng thì 'TotCases/1M pop' cũng tăng.\n",
    "- Tồn tại mối liên hệ yếu giữa 'Deaths/1M pop' với hai biến còn lại. Nếu tổng test hoặc tổng số ca nhiễm tăng thì tỉ lệ tử vong cũng tăng lên, tuy nhiên tỉ lệ tăng không quá cao."
   ]
  },
  {
   "cell_type": "markdown",
   "metadata": {},
   "source": [
    "#### 4. Liệu có quan hệ nhân quả giữa hai trường Total Cases và Total Tests không? (số ca nhiễm nhiều do có nhiều xét nghiệm?)"
   ]
  },
  {
   "cell_type": "code",
   "execution_count": 63,
   "metadata": {},
   "outputs": [
    {
     "data": {
      "image/png": "[encoded data removed]",
      "text/plain": [
       "<Figure size 640x480 with 1 Axes>"
      ]
     },
     "metadata": {},
     "output_type": "display_data"
    }
   ],
   "source": [
    "plt.scatter(x=top_10['Total Cases'], y=top_10['Total Tests'])\n",
    "plt.xlabel('TotalCases')\n",
    "plt.ylabel('TotalTests')\n",
    "plt.show()"
   ]
  },
  {
   "cell_type": "markdown",
   "metadata": {},
   "source": [
    "- Giữa 'TotalCases' và 'TotalTests' có mối quan hệ tương quan thuận với nhau, ta thấy nếu 'TotalCases' tăng thì 'TotalTests' cũng tăng và ngược lại."
   ]
  },
  {
   "cell_type": "code",
   "execution_count": 64,
   "metadata": {},
   "outputs": [
    {
     "data": {
      "image/png": "[encoded data removed]",
      "text/plain": [
       "<Figure size 900x900 with 1 Axes>"
      ]
     },
     "metadata": {},
     "output_type": "display_data"
    }
   ],
   "source": [
    "df1=top_10[['Country, Other','Total Cases', 'Population']]\n",
    "#set index\n",
    "df1=df1.set_index('Country, Other')\n",
    "plot= df1.plot.bar(stacked=True,figsize=(9,9),rot=0)"
   ]
  },
  {
   "cell_type": "markdown",
   "metadata": {},
   "source": [
    "### Phân tích dữ liệu 10 quốc gia đông dân nhất:"
   ]
  },
  {
   "cell_type": "code",
   "execution_count": 65,
   "metadata": {},
   "outputs": [
    {
     "data": {
      "text/html": [
       "<div>\n",
       "<style scoped>\n",
       "    .dataframe tbody tr th:only-of-type {\n",
       "        vertical-align: middle;\n",
       "    }\n",
       "\n",
       "    .dataframe tbody tr th {\n",
       "        vertical-align: top;\n",
       "    }\n",
       "\n",
       "    .dataframe thead th {\n",
       "        text-align: right;\n",
       "    }\n",
       "</style>\n",
       "<table border=\"1\" class=\"dataframe\">\n",
       "  <thead>\n",
       "    <tr style=\"text-align: right;\">\n",
       "      <th></th>\n",
       "      <th>Country, Other</th>\n",
       "      <th>Total Cases</th>\n",
       "      <th>Total Deaths</th>\n",
       "      <th>Total Recovered</th>\n",
       "      <th>Active Cases</th>\n",
       "      <th>Serious, Critical</th>\n",
       "      <th>1M pop</th>\n",
       "      <th>Deaths/ 1M pop</th>\n",
       "      <th>Total Tests</th>\n",
       "      <th>Tests/ 1M pop</th>\n",
       "      <th>Population</th>\n",
       "      <th>Continent</th>\n",
       "    </tr>\n",
       "  </thead>\n",
       "  <tbody>\n",
       "    <tr>\n",
       "      <th>0</th>\n",
       "      <td>China</td>\n",
       "      <td>503302</td>\n",
       "      <td>5272.0</td>\n",
       "      <td>379053.0</td>\n",
       "      <td>118977.0</td>\n",
       "      <td>NaN</td>\n",
       "      <td>347.0</td>\n",
       "      <td>4.0</td>\n",
       "      <td>1.600000e+08</td>\n",
       "      <td>110461.0</td>\n",
       "      <td>1.448471e+09</td>\n",
       "      <td>Asia</td>\n",
       "    </tr>\n",
       "    <tr>\n",
       "      <th>1</th>\n",
       "      <td>India</td>\n",
       "      <td>44691956</td>\n",
       "      <td>530789.0</td>\n",
       "      <td>44156970.0</td>\n",
       "      <td>4197.0</td>\n",
       "      <td>NaN</td>\n",
       "      <td>31772.0</td>\n",
       "      <td>377.0</td>\n",
       "      <td>9.198164e+08</td>\n",
       "      <td>653914.0</td>\n",
       "      <td>1.406632e+09</td>\n",
       "      <td>Asia</td>\n",
       "    </tr>\n",
       "    <tr>\n",
       "      <th>2</th>\n",
       "      <td>USA</td>\n",
       "      <td>105665981</td>\n",
       "      <td>1149253.0</td>\n",
       "      <td>103319965.0</td>\n",
       "      <td>1196763.0</td>\n",
       "      <td>2157.0</td>\n",
       "      <td>315604.0</td>\n",
       "      <td>3433.0</td>\n",
       "      <td>1.169268e+09</td>\n",
       "      <td>3492381.0</td>\n",
       "      <td>3.348053e+08</td>\n",
       "      <td>North America</td>\n",
       "    </tr>\n",
       "    <tr>\n",
       "      <th>3</th>\n",
       "      <td>Indonesia</td>\n",
       "      <td>6740031</td>\n",
       "      <td>160956.0</td>\n",
       "      <td>6575541.0</td>\n",
       "      <td>3534.0</td>\n",
       "      <td>NaN</td>\n",
       "      <td>24146.0</td>\n",
       "      <td>577.0</td>\n",
       "      <td>1.141589e+08</td>\n",
       "      <td>408975.0</td>\n",
       "      <td>2.791345e+08</td>\n",
       "      <td>Asia</td>\n",
       "    </tr>\n",
       "    <tr>\n",
       "      <th>4</th>\n",
       "      <td>Pakistan</td>\n",
       "      <td>1577785</td>\n",
       "      <td>30645.0</td>\n",
       "      <td>1538689.0</td>\n",
       "      <td>8451.0</td>\n",
       "      <td>11.0</td>\n",
       "      <td>6875.0</td>\n",
       "      <td>134.0</td>\n",
       "      <td>3.057086e+07</td>\n",
       "      <td>133213.0</td>\n",
       "      <td>2.294890e+08</td>\n",
       "      <td>Asia</td>\n",
       "    </tr>\n",
       "    <tr>\n",
       "      <th>5</th>\n",
       "      <td>Nigeria</td>\n",
       "      <td>266628</td>\n",
       "      <td>3155.0</td>\n",
       "      <td>259938.0</td>\n",
       "      <td>3535.0</td>\n",
       "      <td>11.0</td>\n",
       "      <td>1230.0</td>\n",
       "      <td>15.0</td>\n",
       "      <td>5.708974e+06</td>\n",
       "      <td>26339.0</td>\n",
       "      <td>2.167469e+08</td>\n",
       "      <td>Africa</td>\n",
       "    </tr>\n",
       "    <tr>\n",
       "      <th>6</th>\n",
       "      <td>Brazil</td>\n",
       "      <td>37085520</td>\n",
       "      <td>699310.0</td>\n",
       "      <td>36249161.0</td>\n",
       "      <td>137049.0</td>\n",
       "      <td>NaN</td>\n",
       "      <td>172208.0</td>\n",
       "      <td>3247.0</td>\n",
       "      <td>6.377617e+07</td>\n",
       "      <td>296146.0</td>\n",
       "      <td>2.153536e+08</td>\n",
       "      <td>South America</td>\n",
       "    </tr>\n",
       "    <tr>\n",
       "      <th>7</th>\n",
       "      <td>Bangladesh</td>\n",
       "      <td>2037871</td>\n",
       "      <td>29445.0</td>\n",
       "      <td>1998448.0</td>\n",
       "      <td>9978.0</td>\n",
       "      <td>NaN</td>\n",
       "      <td>12138.0</td>\n",
       "      <td>175.0</td>\n",
       "      <td>1.525440e+07</td>\n",
       "      <td>90862.0</td>\n",
       "      <td>1.678857e+08</td>\n",
       "      <td>Asia</td>\n",
       "    </tr>\n",
       "    <tr>\n",
       "      <th>8</th>\n",
       "      <td>Russia</td>\n",
       "      <td>22454933</td>\n",
       "      <td>396696.0</td>\n",
       "      <td>21806101.0</td>\n",
       "      <td>252136.0</td>\n",
       "      <td>NaN</td>\n",
       "      <td>154006.0</td>\n",
       "      <td>2721.0</td>\n",
       "      <td>2.734000e+08</td>\n",
       "      <td>1875095.0</td>\n",
       "      <td>1.458059e+08</td>\n",
       "      <td>Europe</td>\n",
       "    </tr>\n",
       "    <tr>\n",
       "      <th>9</th>\n",
       "      <td>Mexico</td>\n",
       "      <td>7492112</td>\n",
       "      <td>333243.0</td>\n",
       "      <td>6729945.0</td>\n",
       "      <td>428924.0</td>\n",
       "      <td>NaN</td>\n",
       "      <td>56947.0</td>\n",
       "      <td>2533.0</td>\n",
       "      <td>1.964277e+07</td>\n",
       "      <td>149303.0</td>\n",
       "      <td>1.315628e+08</td>\n",
       "      <td>North America</td>\n",
       "    </tr>\n",
       "  </tbody>\n",
       "</table>\n",
       "</div>"
      ],
      "text/plain": [
       "  Country, Other  Total Cases  Total Deaths  Total Recovered  Active Cases  \\\n",
       "0          China       503302        5272.0         379053.0      118977.0   \n",
       "1          India     44691956      530789.0       44156970.0        4197.0   \n",
       "2            USA    105665981     1149253.0      103319965.0     1196763.0   \n",
       "3      Indonesia      6740031      160956.0        6575541.0        3534.0   \n",
       "4       Pakistan      1577785       30645.0        1538689.0        8451.0   \n",
       "5        Nigeria       266628        3155.0         259938.0        3535.0   \n",
       "6         Brazil     37085520      699310.0       36249161.0      137049.0   \n",
       "7     Bangladesh      2037871       29445.0        1998448.0        9978.0   \n",
       "8         Russia     22454933      396696.0       21806101.0      252136.0   \n",
       "9         Mexico      7492112      333243.0        6729945.0      428924.0   \n",
       "\n",
       "   Serious, Critical    1M pop  Deaths/ 1M pop   Total Tests  Tests/ 1M pop  \\\n",
       "0                NaN     347.0             4.0  1.600000e+08       110461.0   \n",
       "1                NaN   31772.0           377.0  9.198164e+08       653914.0   \n",
       "2             2157.0  315604.0          3433.0  1.169268e+09      3492381.0   \n",
       "3                NaN   24146.0           577.0  1.141589e+08       408975.0   \n",
       "4               11.0    6875.0           134.0  3.057086e+07       133213.0   \n",
       "5               11.0    1230.0            15.0  5.708974e+06        26339.0   \n",
       "6                NaN  172208.0          3247.0  6.377617e+07       296146.0   \n",
       "7                NaN   12138.0           175.0  1.525440e+07        90862.0   \n",
       "8                NaN  154006.0          2721.0  2.734000e+08      1875095.0   \n",
       "9                NaN   56947.0          2533.0  1.964277e+07       149303.0   \n",
       "\n",
       "     Population      Continent  \n",
       "0  1.448471e+09           Asia  \n",
       "1  1.406632e+09           Asia  \n",
       "2  3.348053e+08  North America  \n",
       "3  2.791345e+08           Asia  \n",
       "4  2.294890e+08           Asia  \n",
       "5  2.167469e+08         Africa  \n",
       "6  2.153536e+08  South America  \n",
       "7  1.678857e+08           Asia  \n",
       "8  1.458059e+08         Europe  \n",
       "9  1.315628e+08  North America  "
      ]
     },
     "execution_count": 65,
     "metadata": {},
     "output_type": "execute_result"
    }
   ],
   "source": [
    "top10_population_df = df.sort_values(by=['Population'], ascending=False, ignore_index=True).iloc[:10, :]\n",
    "top10_population_df"
   ]
  },
  {
   "cell_type": "markdown",
   "metadata": {},
   "source": [
    "#### 1. Biểu đồ thể hiện Total Cases, Total Recovered, Total Deaths, Total Tests."
   ]
  },
  {
   "cell_type": "code",
   "execution_count": 66,
   "metadata": {},
   "outputs": [
    {
     "data": {
      "image/png": "[encoded data removed]",
      "text/plain": [
       "<Figure size 1500x1000 with 1 Axes>"
      ]
     },
     "metadata": {},
     "output_type": "display_data"
    }
   ],
   "source": [
    "dfs = top10_population_df[['Country, Other', 'Total Cases', 'Total Recovered', 'Total Deaths', 'Total Tests']]\n",
    "dfs = dfs.set_index('Country, Other')\n",
    "ax = dfs.plot.bar(rot = 0, width = 0.5, figsize = (15,10))"
   ]
  },
  {
   "cell_type": "markdown",
   "metadata": {},
   "source": [
    "- Total Cases, Total Recovered, Total Deaths và Total Tests có tỉ lệ với nhau. Khi Total Tests càng cao thì tương ứng 3 thuộc tính còn lại cũng có sự tăng.\n",
    "- Tốc độ phục hồi dịch bệnh của các nước đều rất tốt (TotalRecovered xấp xỉ gần bằng TotalCases).\n",
    "- Số ca tử vong (TotalDeaths) khá thấp nếu so sánh với TotalCases, TotalRecovered"
   ]
  },
  {
   "cell_type": "markdown",
   "metadata": {},
   "source": [
    "#### 2. Mối quan hệ giữa Total Cases và Total Test: "
   ]
  },
  {
   "cell_type": "code",
   "execution_count": 67,
   "metadata": {},
   "outputs": [
    {
     "data": {
      "image/png": "[encoded data removed]",
      "text/plain": [
       "<Figure size 1200x800 with 1 Axes>"
      ]
     },
     "metadata": {},
     "output_type": "display_data"
    }
   ],
   "source": [
    "plt.figure(figsize = (12,8))\n",
    "sns.regplot(data = top10_population_df, x = 'Total Cases', y = 'Total Tests')\n",
    "plt.ticklabel_format(style = 'plain')\n",
    "plt.title('Relationship between total cases and total tests')\n",
    "plt.show()"
   ]
  },
  {
   "cell_type": "markdown",
   "metadata": {},
   "source": [
    "- 2 thuộc tính này có mối quan hệ tuyến tính với nhau, khi cho người dân test càng nhiều thì số lượng ca mắc covid càng cao."
   ]
  }
 ],
 "metadata": {
  "kernelspec": {
   "display_name": "Python 3",
   "language": "python",
   "name": "python3"
  },
  "language_info": {
   "codemirror_mode": {
    "name": "ipython",
    "version": 3
   },
   "file_extension": ".py",
   "mimetype": "text/x-python",
   "name": "python",
   "nbconvert_exporter": "python",
   "pygments_lexer": "ipython3",
   "version": "3.10.7"
  },
  "orig_nbformat": 4
 },
 "nbformat": 4,
 "nbformat_minor": 2
}
