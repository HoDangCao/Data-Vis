{
 "cells": [
  {
   "cell_type": "markdown",
   "metadata": {},
   "source": [
    "## Import the necessary libraries"
   ]
  },
  {
   "cell_type": "code",
   "execution_count": 13,
   "metadata": {},
   "outputs": [],
   "source": [
    "from bs4 import BeautifulSoup\n",
    "from selenium import webdriver\n",
    "from selenium.webdriver.chrome.service import Service\n",
    "from webdriver_manager.chrome import ChromeDriverManager\n",
    "import re\n",
    "\n",
    "import pandas as pd\n",
    "import numpy as np\n",
    "\n",
    "from datetime import date"
   ]
  },
  {
   "cell_type": "markdown",
   "metadata": {},
   "source": [
    "---\n",
    "\n",
    "## Crawling data from web\n",
    "The dataset used for analysising is collected from [Worldometer](https://www.worldometers.info/coronavirus/)"
   ]
  },
  {
   "cell_type": "markdown",
   "metadata": {},
   "source": [
    "- Get chrome driver to browse in `Chrome`"
   ]
  },
  {
   "cell_type": "code",
   "execution_count": 14,
   "metadata": {},
   "outputs": [],
   "source": [
    "# browser = webdriver.Chrome(executable_path=\"./chromedriver_win32/chromedriver.exe\")\n",
    "browser = webdriver.Chrome(service=Service(ChromeDriverManager().install()))"
   ]
  },
  {
   "cell_type": "code",
   "execution_count": 15,
   "metadata": {},
   "outputs": [],
   "source": [
    "browser.get(\"https://www.worldometers.info/coronavirus/\")\n",
    "browser.implicitly_wait(20)\n",
    "browser.minimize_window()\n",
    "\n",
    "html_text = BeautifulSoup(browser.page_source, \"html.parser\")\n",
    "browser.quit()# Close the Chrome browser"
   ]
  },
  {
   "cell_type": "code",
   "execution_count": 16,
   "metadata": {},
   "outputs": [],
   "source": [
    "def get_string(row):\n",
    "    row.pop(0)# remove id value\n",
    "    if len(row) == 17:\n",
    "        row.pop(-3)# remove redundant empty value\n",
    "    if len(row) == 16:\n",
    "        row.pop(1)# remove duplicated country name\n",
    "    for i in range(len(row)):\n",
    "        row[i] = row[i].string# pure get data\n",
    "        if row[i] in [' ']: row[i] = np.nan\n",
    "        try:\n",
    "            row[i] = int(row[i].replace(',',''))# astype numeric values\n",
    "        except: pass\n",
    "        \n",
    "    return row"
   ]
  },
  {
   "cell_type": "code",
   "execution_count": 17,
   "metadata": {},
   "outputs": [
    {
     "name": "stdout",
     "output_type": "stream",
     "text": [
      "['Country, Other', 'Total Cases', 'New Cases', 'Total Deaths', 'New Deaths', 'Total Recovered', 'New Recovered', 'Active Cases', 'Serious, Critical', '1M pop', 'Deaths/ 1M pop', 'Total Tests', 'Tests/ 1M pop', 'Population', 'Continent'] 15\n"
     ]
    }
   ],
   "source": [
    "rows = html_text.select(\"tr:not([style='display: none'])\")[:233]# get 233 rows of the table\n",
    "columns = re.findall('>([\\w\\d,/ ]*)<',str(rows[0]))# get columns name from html\n",
    "columns = str(columns[2:-1])[2:-2].replace(\"', '', '\",'|').replace(\"', '\",' ').split('|')# get columns name from list \n",
    "print(columns, len(columns))\n",
    "\n",
    "#get data of each table's cell, except 2 first rows\n",
    "rows = list(map(lambda line: line.find_all(['td','a']), rows[2:]))\n",
    "rows = list(map(lambda line: get_string(line), rows))"
   ]
  },
  {
   "cell_type": "code",
   "execution_count": 18,
   "metadata": {},
   "outputs": [],
   "source": [
    "df = pd.DataFrame(rows, columns=columns)\n",
    "df['date'] = [date.today()]*df.shape[0]\n",
    "# df"
   ]
  },
  {
   "cell_type": "markdown",
   "metadata": {},
   "source": [
    "## Pre-processing"
   ]
  },
  {
   "cell_type": "markdown",
   "metadata": {},
   "source": [
    "- Missing ratio of attributes"
   ]
  },
  {
   "cell_type": "code",
   "execution_count": 19,
   "metadata": {},
   "outputs": [
    {
     "data": {
      "text/plain": [
       "Country, Other       0.000000\n",
       "Total Cases          0.000000\n",
       "New Cases            0.991342\n",
       "Total Deaths         0.025974\n",
       "New Deaths           0.995671\n",
       "Total Recovered      0.008658\n",
       "New Recovered        0.874459\n",
       "Active Cases         0.000000\n",
       "Serious, Critical    0.406926\n",
       "1M pop               0.008658\n",
       "Deaths/ 1M pop       0.034632\n",
       "Total Tests          0.077922\n",
       "Tests/ 1M pop        0.077922\n",
       "Population           0.008658\n",
       "Continent            0.008658\n",
       "date                 0.000000\n",
       "dtype: float64"
      ]
     },
     "execution_count": 19,
     "metadata": {},
     "output_type": "execute_result"
    }
   ],
   "source": [
    "df.apply(lambda c: c.isna().mean())"
   ]
  },
  {
   "cell_type": "markdown",
   "metadata": {},
   "source": [
    "`Comment:` Because the covid situation is no longer serious, the attributes consist of 'New Cases', 'New Deaths', 'New Recovered' are not updated regularly (have high missing ratio). They wil be removed. "
   ]
  },
  {
   "cell_type": "code",
   "execution_count": 20,
   "metadata": {},
   "outputs": [
    {
     "data": {
      "text/html": [
       "<div>\n",
       "<style scoped>\n",
       "    .dataframe tbody tr th:only-of-type {\n",
       "        vertical-align: middle;\n",
       "    }\n",
       "\n",
       "    .dataframe tbody tr th {\n",
       "        vertical-align: top;\n",
       "    }\n",
       "\n",
       "    .dataframe thead th {\n",
       "        text-align: right;\n",
       "    }\n",
       "</style>\n",
       "<table border=\"1\" class=\"dataframe\">\n",
       "  <thead>\n",
       "    <tr style=\"text-align: right;\">\n",
       "      <th></th>\n",
       "      <th>Country, Other</th>\n",
       "      <th>Total Cases</th>\n",
       "      <th>Total Deaths</th>\n",
       "      <th>Total Recovered</th>\n",
       "      <th>Active Cases</th>\n",
       "      <th>Serious, Critical</th>\n",
       "      <th>1M pop</th>\n",
       "      <th>Deaths/ 1M pop</th>\n",
       "      <th>Total Tests</th>\n",
       "      <th>Tests/ 1M pop</th>\n",
       "      <th>Population</th>\n",
       "      <th>Continent</th>\n",
       "      <th>date</th>\n",
       "    </tr>\n",
       "  </thead>\n",
       "  <tbody>\n",
       "    <tr>\n",
       "      <th>0</th>\n",
       "      <td>USA</td>\n",
       "      <td>106475031</td>\n",
       "      <td>1158255.0</td>\n",
       "      <td>104340108</td>\n",
       "      <td>976668</td>\n",
       "      <td>1594</td>\n",
       "      <td>318021.0</td>\n",
       "      <td>3459.0</td>\n",
       "      <td>1.176056e+09</td>\n",
       "      <td>3512657.0</td>\n",
       "      <td>3.348053e+08</td>\n",
       "      <td>North America</td>\n",
       "      <td>2023-04-18</td>\n",
       "    </tr>\n",
       "    <tr>\n",
       "      <th>1</th>\n",
       "      <td>India</td>\n",
       "      <td>44827226</td>\n",
       "      <td>531141.0</td>\n",
       "      <td>44235772</td>\n",
       "      <td>60313</td>\n",
       "      <td>N/A</td>\n",
       "      <td>31868.0</td>\n",
       "      <td>378.0</td>\n",
       "      <td>9.240577e+08</td>\n",
       "      <td>656929.0</td>\n",
       "      <td>1.406632e+09</td>\n",
       "      <td>Asia</td>\n",
       "      <td>2023-04-18</td>\n",
       "    </tr>\n",
       "    <tr>\n",
       "      <th>2</th>\n",
       "      <td>France</td>\n",
       "      <td>39903419</td>\n",
       "      <td>166024.0</td>\n",
       "      <td>39605680</td>\n",
       "      <td>131715</td>\n",
       "      <td>869</td>\n",
       "      <td>608427.0</td>\n",
       "      <td>2531.0</td>\n",
       "      <td>2.714902e+08</td>\n",
       "      <td>4139547.0</td>\n",
       "      <td>6.558452e+07</td>\n",
       "      <td>Europe</td>\n",
       "      <td>2023-04-18</td>\n",
       "    </tr>\n",
       "    <tr>\n",
       "      <th>3</th>\n",
       "      <td>Germany</td>\n",
       "      <td>38385526</td>\n",
       "      <td>172086.0</td>\n",
       "      <td>38162100</td>\n",
       "      <td>51340</td>\n",
       "      <td>N/A</td>\n",
       "      <td>457605.0</td>\n",
       "      <td>2051.0</td>\n",
       "      <td>1.223324e+08</td>\n",
       "      <td>1458359.0</td>\n",
       "      <td>8.388360e+07</td>\n",
       "      <td>Europe</td>\n",
       "      <td>2023-04-18</td>\n",
       "    </tr>\n",
       "    <tr>\n",
       "      <th>4</th>\n",
       "      <td>Brazil</td>\n",
       "      <td>37358092</td>\n",
       "      <td>700811.0</td>\n",
       "      <td>36249161</td>\n",
       "      <td>408120</td>\n",
       "      <td>N/A</td>\n",
       "      <td>173473.0</td>\n",
       "      <td>3254.0</td>\n",
       "      <td>6.377617e+07</td>\n",
       "      <td>296146.0</td>\n",
       "      <td>2.153536e+08</td>\n",
       "      <td>South America</td>\n",
       "      <td>2023-04-18</td>\n",
       "    </tr>\n",
       "    <tr>\n",
       "      <th>...</th>\n",
       "      <td>...</td>\n",
       "      <td>...</td>\n",
       "      <td>...</td>\n",
       "      <td>...</td>\n",
       "      <td>...</td>\n",
       "      <td>...</td>\n",
       "      <td>...</td>\n",
       "      <td>...</td>\n",
       "      <td>...</td>\n",
       "      <td>...</td>\n",
       "      <td>...</td>\n",
       "      <td>...</td>\n",
       "      <td>...</td>\n",
       "    </tr>\n",
       "    <tr>\n",
       "      <th>226</th>\n",
       "      <td>Diamond Princess</td>\n",
       "      <td>712</td>\n",
       "      <td>13.0</td>\n",
       "      <td>699</td>\n",
       "      <td>0</td>\n",
       "      <td>None</td>\n",
       "      <td>NaN</td>\n",
       "      <td>NaN</td>\n",
       "      <td>NaN</td>\n",
       "      <td>NaN</td>\n",
       "      <td>NaN</td>\n",
       "      <td>None</td>\n",
       "      <td>2023-04-18</td>\n",
       "    </tr>\n",
       "    <tr>\n",
       "      <th>227</th>\n",
       "      <td>Vatican City</td>\n",
       "      <td>29</td>\n",
       "      <td>NaN</td>\n",
       "      <td>29</td>\n",
       "      <td>0</td>\n",
       "      <td>None</td>\n",
       "      <td>36295.0</td>\n",
       "      <td>NaN</td>\n",
       "      <td>NaN</td>\n",
       "      <td>NaN</td>\n",
       "      <td>7.990000e+02</td>\n",
       "      <td>Europe</td>\n",
       "      <td>2023-04-18</td>\n",
       "    </tr>\n",
       "    <tr>\n",
       "      <th>228</th>\n",
       "      <td>Western Sahara</td>\n",
       "      <td>10</td>\n",
       "      <td>1.0</td>\n",
       "      <td>9</td>\n",
       "      <td>0</td>\n",
       "      <td>None</td>\n",
       "      <td>16.0</td>\n",
       "      <td>2.0</td>\n",
       "      <td>NaN</td>\n",
       "      <td>NaN</td>\n",
       "      <td>6.261610e+05</td>\n",
       "      <td>Africa</td>\n",
       "      <td>2023-04-18</td>\n",
       "    </tr>\n",
       "    <tr>\n",
       "      <th>229</th>\n",
       "      <td>MS Zaandam</td>\n",
       "      <td>9</td>\n",
       "      <td>2.0</td>\n",
       "      <td>7</td>\n",
       "      <td>0</td>\n",
       "      <td>None</td>\n",
       "      <td>NaN</td>\n",
       "      <td>NaN</td>\n",
       "      <td>NaN</td>\n",
       "      <td>NaN</td>\n",
       "      <td>NaN</td>\n",
       "      <td>None</td>\n",
       "      <td>2023-04-18</td>\n",
       "    </tr>\n",
       "    <tr>\n",
       "      <th>230</th>\n",
       "      <td>Tokelau</td>\n",
       "      <td>5</td>\n",
       "      <td>NaN</td>\n",
       "      <td>None</td>\n",
       "      <td>5</td>\n",
       "      <td>None</td>\n",
       "      <td>3628.0</td>\n",
       "      <td>NaN</td>\n",
       "      <td>NaN</td>\n",
       "      <td>NaN</td>\n",
       "      <td>1.378000e+03</td>\n",
       "      <td>Australia/Oceania</td>\n",
       "      <td>2023-04-18</td>\n",
       "    </tr>\n",
       "  </tbody>\n",
       "</table>\n",
       "<p>231 rows × 13 columns</p>\n",
       "</div>"
      ],
      "text/plain": [
       "       Country, Other  Total Cases  Total Deaths Total Recovered Active Cases  \\\n",
       "0                 USA    106475031     1158255.0       104340108       976668   \n",
       "1               India     44827226      531141.0        44235772        60313   \n",
       "2              France     39903419      166024.0        39605680       131715   \n",
       "3             Germany     38385526      172086.0        38162100        51340   \n",
       "4              Brazil     37358092      700811.0        36249161       408120   \n",
       "..                ...          ...           ...             ...          ...   \n",
       "226  Diamond Princess          712          13.0             699            0   \n",
       "227      Vatican City           29           NaN              29            0   \n",
       "228    Western Sahara           10           1.0               9            0   \n",
       "229        MS Zaandam            9           2.0               7            0   \n",
       "230           Tokelau            5           NaN            None            5   \n",
       "\n",
       "    Serious, Critical    1M pop  Deaths/ 1M pop   Total Tests  Tests/ 1M pop  \\\n",
       "0                1594  318021.0          3459.0  1.176056e+09      3512657.0   \n",
       "1                 N/A   31868.0           378.0  9.240577e+08       656929.0   \n",
       "2                 869  608427.0          2531.0  2.714902e+08      4139547.0   \n",
       "3                 N/A  457605.0          2051.0  1.223324e+08      1458359.0   \n",
       "4                 N/A  173473.0          3254.0  6.377617e+07       296146.0   \n",
       "..                ...       ...             ...           ...            ...   \n",
       "226              None       NaN             NaN           NaN            NaN   \n",
       "227              None   36295.0             NaN           NaN            NaN   \n",
       "228              None      16.0             2.0           NaN            NaN   \n",
       "229              None       NaN             NaN           NaN            NaN   \n",
       "230              None    3628.0             NaN           NaN            NaN   \n",
       "\n",
       "       Population          Continent        date  \n",
       "0    3.348053e+08      North America  2023-04-18  \n",
       "1    1.406632e+09               Asia  2023-04-18  \n",
       "2    6.558452e+07             Europe  2023-04-18  \n",
       "3    8.388360e+07             Europe  2023-04-18  \n",
       "4    2.153536e+08      South America  2023-04-18  \n",
       "..            ...                ...         ...  \n",
       "226           NaN               None  2023-04-18  \n",
       "227  7.990000e+02             Europe  2023-04-18  \n",
       "228  6.261610e+05             Africa  2023-04-18  \n",
       "229           NaN               None  2023-04-18  \n",
       "230  1.378000e+03  Australia/Oceania  2023-04-18  \n",
       "\n",
       "[231 rows x 13 columns]"
      ]
     },
     "execution_count": 20,
     "metadata": {},
     "output_type": "execute_result"
    }
   ],
   "source": [
    "df.drop(['New Cases','New Deaths','New Recovered'], axis=1, inplace=True)\n",
    "df"
   ]
  },
  {
   "cell_type": "code",
   "execution_count": 21,
   "metadata": {},
   "outputs": [],
   "source": [
    "# df.to_csv(\"2023-02-20.csv\")\n",
    "df.to_csv(f\"{date.today()}.csv\")"
   ]
  },
  {
   "cell_type": "code",
   "execution_count": 22,
   "metadata": {},
   "outputs": [
    {
     "name": "stdout",
     "output_type": "stream",
     "text": [
      "2023-02-20 <class 'datetime.date'>\n",
      "  Country, Other  Total Cases  Total Deaths  Total Recovered  Active Cases  \\\n",
      "0            USA    105665981     1149253.0      103319965.0     1196763.0   \n",
      "1          India     44691956      530789.0       44156970.0        4197.0   \n",
      "2         France     39667102      165240.0       39435308.0       66554.0   \n",
      "3        Germany     38276190      169345.0       37906300.0      200545.0   \n",
      "4         Brazil     37085520      699310.0       36249161.0      137049.0   \n",
      "\n",
      "   Serious, Critical    1M pop  Deaths/ 1M pop   Total Tests  Tests/ 1M pop  \\\n",
      "0             2157.0  315604.0          3433.0  1.169268e+09      3492381.0   \n",
      "1                NaN   31772.0           377.0  9.198164e+08       653914.0   \n",
      "2              869.0  604824.0          2519.0  2.714902e+08      4139547.0   \n",
      "3                NaN  456301.0          2019.0  1.223324e+08      1458359.0   \n",
      "4                NaN  172208.0          3247.0  6.377617e+07       296146.0   \n",
      "\n",
      "     Population      Continent        date  \n",
      "0  3.348053e+08  North America  2023-02-20  \n",
      "1  1.406632e+09           Asia  2023-02-20  \n",
      "2  6.558452e+07         Europe  2023-02-20  \n",
      "3  8.388360e+07         Europe  2023-02-20  \n",
      "4  2.153536e+08  South America  2023-02-20  \n"
     ]
    }
   ],
   "source": [
    "from datetime import datetime\n",
    "day = datetime.strptime('2023-02-20','%Y-%m-%d').date()\n",
    "print(day, type(day))\n",
    "df = pd.read_csv(str(day)+'.csv')\n",
    "df = df.drop(df.columns[0], axis=1)\n",
    "df['date'] = [day]*df.shape[0]\n",
    "print(df.head())\n",
    "df.to_csv(str(day)+'.csv')"
   ]
  },
  {
   "cell_type": "code",
   "execution_count": 23,
   "metadata": {},
   "outputs": [],
   "source": [
    "df = pd.read_csv(str(day)+'.csv')\n",
    "df = df.drop(df.columns[0], axis=1)"
   ]
  },
  {
   "cell_type": "code",
   "execution_count": 24,
   "metadata": {},
   "outputs": [
    {
     "data": {
      "text/plain": [
       "str"
      ]
     },
     "execution_count": 24,
     "metadata": {},
     "output_type": "execute_result"
    }
   ],
   "source": [
    "type(df['date'][0])"
   ]
  }
 ],
 "metadata": {
  "kernelspec": {
   "display_name": "Python 3",
   "language": "python",
   "name": "python3"
  },
  "language_info": {
   "codemirror_mode": {
    "name": "ipython",
    "version": 3
   },
   "file_extension": ".py",
   "mimetype": "text/x-python",
   "name": "python",
   "nbconvert_exporter": "python",
   "pygments_lexer": "ipython3",
   "version": "3.10.7"
  },
  "orig_nbformat": 4,
  "vscode": {
   "interpreter": {
    "hash": "26de051ba29f2982a8de78e945f0abaf191376122a1563185a90213a26c5da77"
   }
  }
 },
 "nbformat": 4,
 "nbformat_minor": 2
}
